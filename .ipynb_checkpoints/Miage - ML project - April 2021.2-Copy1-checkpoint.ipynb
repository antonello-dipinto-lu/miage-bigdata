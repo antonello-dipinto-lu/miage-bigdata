{
 "cells": [
  {
   "cell_type": "markdown",
   "id": "typical-nicaragua",
   "metadata": {},
   "source": [
    "# Devoir Big Data & Dataminig\n",
    "### Professeurs: Mr Perrin & Mr Tabbone\n",
    "A rendre le 15 Avril 2021\n",
    "\n",
    "## Goal\n",
    "Le but de ce projet est de déterminer si un produit aura du succès ou non selon ses caractéristiques.\n",
    "Nous nous situons donc dans le cadre d'un apprentissage supervisé. En effet, le but de ce devoir consiste à effectuer une prédiction sur le succès ou non (label) d'un produit en fonction de ses caractéristiques (features)\n",
    "\n",
    "<img src=\"img/machineLearning.jpeg\"/>"
   ]
  },
  {
   "cell_type": "markdown",
   "id": "organic-groove",
   "metadata": {},
   "source": [
    "## <span style=\"color:red\">QUESTIONS</span>\n",
    "***\n",
    "les notations son sur base de la commande et non de l'article acheté\n",
    "doit-on consiérer que la notation d'un commande doit être répartie de manière identique aux articles de la commande"
   ]
  },
  {
   "cell_type": "code",
   "execution_count": 1,
   "id": "smoking-setting",
   "metadata": {},
   "outputs": [],
   "source": [
    "from pyspark.sql import SparkSession"
   ]
  },
  {
   "cell_type": "code",
   "execution_count": 2,
   "id": "helpful-algebra",
   "metadata": {},
   "outputs": [],
   "source": [
    "import numpy as np\n",
    "import pandas as pd\n",
    "from pandas import Series, DataFrame\n",
    "import matplotlib.pyplot as plt"
   ]
  },
  {
   "cell_type": "code",
   "execution_count": 3,
   "id": "surprised-parameter",
   "metadata": {},
   "outputs": [],
   "source": [
    "from pyspark.sql.types import (StructField, StringType, \n",
    "                               IntegerType, TimestampType, DateType,\n",
    "                               DoubleType, StructType)"
   ]
  },
  {
   "cell_type": "code",
   "execution_count": 4,
   "id": "convenient-finland",
   "metadata": {},
   "outputs": [],
   "source": [
    "from pyspark.sql.functions import *"
   ]
  },
  {
   "cell_type": "code",
   "execution_count": 5,
   "id": "quarterly-factory",
   "metadata": {},
   "outputs": [],
   "source": [
    "#from pyspark.sql.functions import format_number"
   ]
  },
  {
   "cell_type": "code",
   "execution_count": null,
   "id": "standing-bolivia",
   "metadata": {},
   "outputs": [],
   "source": []
  },
  {
   "cell_type": "code",
   "execution_count": 6,
   "id": "systematic-search",
   "metadata": {},
   "outputs": [],
   "source": [
    "import os"
   ]
  },
  {
   "cell_type": "code",
   "execution_count": 7,
   "id": "alone-warner",
   "metadata": {},
   "outputs": [],
   "source": [
    "# os.path.abspath(os.getcwd())"
   ]
  },
  {
   "cell_type": "code",
   "execution_count": 8,
   "id": "strategic-tolerance",
   "metadata": {},
   "outputs": [],
   "source": [
    "spark = SparkSession.builder.appName('MiageML').getOrCreate()"
   ]
  },
  {
   "cell_type": "markdown",
   "id": "narrow-belief",
   "metadata": {},
   "source": [
    "## Phase I - Collecting Data\n",
    "***\n",
    "Cette étape consiste à charger les données issues des fichiers csv dans les dataframes correspondant et de typer la leur structure afin de les manipuler aisément\n",
    "\n",
    "<img src=\"img/dataCollection.jpg\"/>\n"
   ]
  },
  {
   "cell_type": "code",
   "execution_count": 9,
   "id": "trying-moscow",
   "metadata": {},
   "outputs": [],
   "source": [
    "## Customers\n",
    "schema_customer = [\n",
    "        StructField(\"customer_id\", StringType(), True),\n",
    "        StructField(\"customer_unique_id\", StringType(), True),\n",
    "        StructField(\"customer_zip_code_prefix\", StringType(), True),\n",
    "        StructField(\"customer_city\", StringType(), True),\n",
    "        StructField(\"customer_state\", StringType(), True)\n",
    "    ]\n",
    "customer_struct = StructType(fields=schema_customer)\n",
    "\n",
    "## Orders\n",
    "schema_order = [\n",
    "        StructField(\"order_id\", StringType(), True),\n",
    "        StructField(\"customer_id\", StringType(), True),\n",
    "        StructField(\"status\", StringType(), True),\n",
    "        StructField(\"purchased_at\", StringType(), True),\n",
    "        StructField(\"approved_at\", StringType(), True),\n",
    "        StructField(\"delvd_carrier_dt\", StringType(), True),\n",
    "        StructField(\"delvd_customer_dt\", StringType(), True),\n",
    "        StructField(\"estimated_delivery_dt\", StringType(), True),        \n",
    "    ]\n",
    "\n",
    "order_struct = StructType(fields=schema_order)\n",
    "\n",
    "## Order items\n",
    "schema_order_items = [\n",
    "    StructField(\"order_id\", StringType(), True),\n",
    "    StructField(\"order_item_id\", IntegerType(), True),\n",
    "    StructField(\"product_id\", StringType(), True),\n",
    "    StructField(\"seller_id\", StringType(), True),\n",
    "    StructField(\"shipping_limit_date\", StringType(), True),\n",
    "    StructField(\"price\", DoubleType(), True),\n",
    "    StructField(\"freight_value\", DoubleType(), True),\n",
    "  ]\n",
    "order_items_struct = StructType(fields=schema_order_items)\n",
    "\n",
    "## Product\n",
    "## \"product_id\",\"product_category_name\",\"product_name_lenght\",\"product_description_lenght\",\"product_photos_qty\",\n",
    "## \"product_weight_g\",\"product_length_cm\",\"product_height_cm\",\"product_width_cm\"\n",
    "schema_products = [\n",
    "    StructField(\"product_id\", StringType(), True),\n",
    "    StructField(\"product_category_name\", StringType(), True),\n",
    "    StructField(\"product_name_lenght\", IntegerType(), True),\n",
    "    StructField(\"product_description_lenght\", IntegerType(), True),\n",
    "    StructField(\"product_photos_qty\", DoubleType(), True),\n",
    "    StructField(\"product_weight_g\", DoubleType(), True),\n",
    "    StructField(\"product_length_cm\", DoubleType(), True),\n",
    "    StructField(\"product_height_cm\", DoubleType(), True),\n",
    "    StructField(\"product_width_cm\", DoubleType(), True)\n",
    "  ]\n",
    "products_struct = StructType(fields=schema_products)\n",
    "\n",
    "## Product category name\n",
    "## product_category_name,product_category_name_english\n",
    "schema_category_name = [\n",
    "    StructField(\"category_name\", StringType(), True),\n",
    "    StructField(\"category_name_en\", StringType(), True)    \n",
    "  ]\n",
    "category_name_struct = StructType(fields=schema_category_name)\n",
    "\n",
    "\n",
    "## Order reviews\n",
    "## \"review_id\",\"order_id\",\"review_score\",\"review_comment_title\",\"review_comment_message\",\"review_creation_date\",\n",
    "## \"review_answer_timestamp\"\n",
    "schema_order_reviews = [\n",
    "    StructField(\"review_id\", StringType(), True),\n",
    "    StructField(\"order_id\", StringType(), True),\n",
    "    StructField(\"review_score\", IntegerType(), True),\n",
    "    StructField(\"review_comment_title\", StringType(), True),\n",
    "    StructField(\"review_comment_message\", StringType(), True),\n",
    "    StructField(\"review_creation_date\", StringType(), True),\n",
    "    StructField(\"review_answer_timestamp\", StringType(), True)\n",
    "  ]\n",
    "order_reviews_struct = StructType(fields=schema_order_reviews)\n",
    "\n",
    "# Payments\n",
    "schema_payment = [\n",
    "        StructField(\"order_id\", StringType(), True),\n",
    "        StructField(\"payment_sequential\", IntegerType(), True),\n",
    "        StructField(\"payment_type\", StringType(), True),\n",
    "        StructField(\"payment_installments\", IntegerType(), True),\n",
    "        StructField(\"payment_value\", DoubleType(), True)\n",
    "    ]\n",
    "payment_struct = StructType(fields=schema_payment)\n",
    "\n",
    "# Sellers\n",
    "schema_seller = [\n",
    "        StructField(\"seller_id\", StringType(), True),\n",
    "        StructField(\"seller_zip_code_prefix\", IntegerType(), True),\n",
    "        StructField(\"seller_city\", StringType(), True),\n",
    "        StructField(\"seller_state\", IntegerType(), True)\n",
    "    ]\n",
    "seller_struct = StructType(fields=schema_seller)\n",
    "\n",
    "# Geolocalisation\n",
    "schema_geo = [\n",
    "        StructField(\"geolocation_zip_code_prefix\", StringType(), True),\n",
    "        StructField(\"geolocation_lat\", DoubleType(), True),\n",
    "        StructField(\"geolocation_lng\", DoubleType(), True),\n",
    "        StructField(\"geolocation_city\", StringType(), True),\n",
    "        StructField(\"geolocation_state\", StringType(), True)\n",
    "    ]\n",
    "geo_struct = StructType(fields=schema_geo)"
   ]
  },
  {
   "cell_type": "code",
   "execution_count": 10,
   "id": "future-stock",
   "metadata": {},
   "outputs": [],
   "source": [
    "df_customers = spark.read\\\n",
    ".option(\"header\", True)\\\n",
    ".schema(customer_struct)\\\n",
    ".csv(\"data/olist_customers_dataset.csv\")\n",
    "\n",
    "df_orders = spark.read\\\n",
    ".option(\"header\", True)\\\n",
    ".option(\"inferSchema\", False)\\\n",
    ".schema(order_struct)\\\n",
    ".csv(\"data/olist_orders_dataset.csv\")\n",
    "\n",
    "df_order_items = spark.read\\\n",
    ".option(\"header\", True)\\\n",
    ".option(\"inferSchema\", False)\\\n",
    ".schema(order_items_struct)\\\n",
    ".csv(\"data/olist_order_items_dataset.csv\")\n",
    "\n",
    "df_products = spark.read\\\n",
    ".option(\"header\", True)\\\n",
    ".option(\"inferSchema\", False)\\\n",
    ".schema(products_struct)\\\n",
    ".csv(\"data/olist_products_dataset.csv\")\n",
    "\n",
    "df_order_reviews = spark.read\\\n",
    ".option(\"header\", True)\\\n",
    ".option(\"inferSchema\", False)\\\n",
    ".schema(order_reviews_struct)\\\n",
    ".csv(\"data/olist_order_reviews_dataset.csv\")\n",
    "\n",
    "df_payments = spark.read\\\n",
    ".option(\"header\", True)\\\n",
    ".option(\"inferSchema\", False)\\\n",
    ".schema(payment_struct)\\\n",
    ".csv(\"data/olist_order_payments_dataset.csv\")\n",
    "\n",
    "df_sellers = spark.read\\\n",
    ".option(\"header\", True)\\\n",
    ".option(\"inferSchema\", False)\\\n",
    ".schema(seller_struct)\\\n",
    ".csv(\"data/olist_sellers_dataset.csv\")\n",
    "\n",
    "df_geo = spark.read\\\n",
    ".option(\"header\", True)\\\n",
    ".option(\"inferSchema\", False)\\\n",
    ".schema(geo_struct)\\\n",
    ".csv(\"data/olist_geolocation_dataset.csv\")\n",
    "\n",
    "\n",
    "df_category_names = spark.read\\\n",
    ".option(\"header\", True)\\\n",
    ".option(\"inferSchema\", False)\\\n",
    ".schema(category_name_struct)\\\n",
    ".csv(\"data/product_category_name_translation.csv\")\n"
   ]
  },
  {
   "cell_type": "markdown",
   "id": "departmental-warren",
   "metadata": {},
   "source": [
    "## Cleanning Data\n",
    "***\n",
    "Le but de cet étape est de conserver un nombre de caractéristiques indispensable qui nous aidera à obtenir une prédiction plus précise\n",
    "\n",
    "| (-) de Caractéristiques | (+) de Caractéristiques |\n",
    "| :- | :- |\n",
    "| Facilement à interpréter | Difficile à interpréter | \n",
    "| Moins enclin au ré-ajustement | Plus enclin au ré-ajustement  | \n",
    "| Prédiction peu précise | Prédication plus précise | \n",
    "\n",
    "3 types de méthodologie pour la sélection des caractéristiques\n",
    " - Filter methods\n",
    " - Wrapper methods\n",
    " - Embedded methods\n",
    " \n",
    " __Filter method__<BR>\n",
    " Cette methode consiste à trouver la corrélation entre la prédiction et la caractéristique étudiée\n",
    "\n",
    " __Wrapper method__<BR>\n",
    " Cette méthode consiste à trouver une corrélation entre la prédiction et un sous ensemble de caractéristiques\n",
    "  - subset selection\n",
    "  - Forward selection\n",
    "  - Backward selection\n",
    "  \n",
    " __Embedded method__<BR>\n",
    "  ??\n",
    " - LASSO & Ridge regression\n",
    " \n",
    "Cette étape consiste à écarter des données qui ne nous apporteront aucune information supplémentaire dans la réalisation de notre objectif. cela consiste en\n",
    "1. la suppression de certaines colonnes\n",
    "2. la suppresion d'enregistrements comportant des valeurs nulles\n",
    "3. la suppresion d'enregistrements dupliqués\n",
    "4. la suppression de colonnes dont les valeurs n'ont aucun impact sur le  résultat final\n",
    "\n",
    "<img src=\"img/dataCleaning.jpg\"/>\n",
    "\n",
    "1. Orders<BR>\n",
    "> KEEP  : \"order_id\",\"customer_id\", \"status\",\"purchase_at\",\"delvd_customer_dt\" <BR>\n",
    "> REMOVE: \"approved_at\",\"delvd_carrier_dt\",\"estimated_delivery_dt\"<BR>\n",
    " - <span style=\"font-weight: bold;font-style: italic\">order_id</span>, <B><i>customer_id</i></B> sont nécessaires pour faire les jointures<BR>\n",
    " - <span style=\"font-weight: bold;font-style: italic\">status</span> nous permets de définir le label i.e. si un produit a été acheté ou non<BR>\n",
    " - <span style=\"font-weight: bold;font-style: italic;color:#3A426C\">purchase_at</span>,\n",
    "   <span style=\"font-weight: bold;font-style: italic;color:#3A426C\">delvd_customer_dt</span>: on support que l'expérience client est meilleur s'il s'écoule peu de temps entre entre la commande et la livraison\n",
    "    \n",
    "2. Order items<BR>\n",
    "> KEEP  : \"order_id\",\"order_item_id\", \"product_id\",\"seller_id\",\"price\",\"freight_value\",\"shipping_limit_date\"<BR>\n",
    "> REMOVE: \"freight_value\" <BR>\n",
    " - <span style=\"font-weight: bold;font-style: italic\">order_id</span>, <span style=\"font-weight: bold;font-style: italic\">product_id</span>, <span style=\"font-weight: bold;font-style: italic\">seller_id</span> sont nécessaires pour faire les jointures<BR>\n",
    " - <span style=\"font-weight: bold;font-style: italic\">order_item_id</span> a vérifier s'il s'agit d'un identifiant unique ou bien l'idenntifiant d'un modèle dans une catégorie de produit<BR>\n",
    " - <span style=\"font-weight: bold;font-style: italic;color:#3A426C\">price</span>, <span style=\"font-weight: bold;font-style: italic;color:#3A426C\">shipping_limit_date</span>: on suppose que le prix  ainsi que la date limite de livraison sont des critères qui peuvent entrer dans la prise de décision au moment de l'achat\n",
    "    \n",
    "3. Order reviews<BR>\n",
    "> KEEP  : \"order_id\",\"review_score\"<BR>\n",
    "> REMOVE: \"review_id\", \"review_comment_title\", \"review_comment_message\", \"review_creation_date\", \"review_answer_timestamp\" <BR>\n",
    " - <span style=\"font-weight: bold;font-style: italic\">order_id</span> est nécessaire pour faire les jointures<BR>\n",
    " - <span style=\"font-weight: bold;font-style: italic;color:#3A426C\">review_score</span>: on suppose que la notation du client est un critère qui peuvant entrer dans la prise de décision au moment de l'achat. Cette notation concerne la commande  cepedant pour notre devoir on considère que la notation est valable pour l'ensemble des articles de la commande\n",
    " - <span style=\"font-weight: bold;font-style: italic\">review_comment_title</span>, <span style=\"font-weight: bold\">review_comment_title</span> on admet que ces deux caractéristiques sont en corrélation avec la note du produit donc on ne garde que cette dernière<BR>\n",
    "    \n",
    "4. Customers<BR>\n",
    "> KEEP  : \"customer_id\", \"customer_zip_code_prefix\",\"customer_zip_code_prefix\",\"customer_state\"<BR>\n",
    "> REMOVE: \"customer_unique_id\"\n",
    " - <span style=\"font-weight: bold;font-style: italic\">customer_id</span> est nécessaire pour faire les jointures<BR>\n",
    " - <span style=\"font-weight: bold;font-style: italic;color:#3A426C\">customer_state</span>: on suppose que le succès peut varier d'une région à une autre on ne cherche pas une granularité trop profonde (trop de ville)\n",
    " - <span style=\"font-weight: bold;font-style: italic\">customer_zip_code_prefix</span>, <span style=\"font-weight: bold;font-style: italic\">customer_zip_code_prefix</span> on admet que ces deux caractéristiques sont en corrélation avec la région du client<BR>\n",
    "    \n",
    "5. Payments<BR>\n",
    "> KEEP  : \"order_id\",\"payment_type\",\"payment_value\"<BR>\n",
    "> REMOVE: \"payment_sequential\",\"payment_installments\"       \n",
    " - <span style=\"font-weight: bold;font-style: italic\">order_id</span> est nécessaire pour faire les jointures<BR>\n",
    " - <span style=\"font-weight: bold;font-style: italic;color:#3A426C\">payment_type</span>: on suppose que le succès peut varier ne fonction du type de paiement, valeur du paiement<BR>\n",
    " \n",
    "6. Products<BR>\n",
    "> KEEP  : \"product_id\",\"product_category_name\",\"product_photos_qty\"<BR>\n",
    "> REMOVE: \"product_name_lenght\", \"product_description_lenght\", \"product_weight_g\", \"product_length_cm\", \"product_height_cm\", \"product_width_cm\"<BR>\n",
    " - <span style=\"font-weight: bold;font-style: italic\">order_id</span> est nécessaire pour faire les jointures<BR>\n",
    " - <span style=\"font-weight: bold;font-style: italic\">product_category_name</span> donnée informative\n",
    " - <span style=\"font-weight: bold;font-style: italic;color:#3A426C\">product_photos_qty</span>: on suppose que le succès peut varier en fonction du nb de photos car le client a une meilleur idée de ce qu'il va acheter<BR>\n",
    "    \n",
    "\n",
    "7. Sellers<BR>\n",
    "> KEEP  : \"seller_id\"<BR>\n",
    "> REMOVE: \"seller_id\",\"seller_zip_code_prefix\",\"seller_city\",\"seller_state\"<BR>\n",
    " - <span style=\"font-weight: bold;font-style: italic\">seller_id</span> est nécessaire pour faire les jointures<BR>\n",
    "    "
   ]
  },
  {
   "cell_type": "markdown",
   "id": "therapeutic-section",
   "metadata": {},
   "source": [
    "## Cleaning & transforming Orders\n",
    "***\n",
    "dfOrds est le dataframe utilisé lors de l'évaluation des modèles de prédication<BR>\n",
    " - jointure: order_id, customer_id\n",
    " - Label   : Succes\n",
    " - Calcul  : purchased_at, delvd_customer_dt, nbDaysTobeDelvd\n",
    " - Features: DlvyLess12Days\n"
   ]
  },
  {
   "cell_type": "code",
   "execution_count": 11,
   "id": "immune-dakota",
   "metadata": {},
   "outputs": [],
   "source": [
    "# Remove columns: \"approved_at\",\"delvd_carrier_dt\",\"estimated_delivery_dt\"\n",
    "rv_order_col=[\"approved_at\",\"delvd_carrier_dt\",\"estimated_delivery_dt\"]\n",
    "df_orders_light = df_orders.drop(*rv_order_col) \\\n",
    "                           .na.fill(value='31.12.99 00:00',subset=[\"delvd_customer_dt\"])  # pour les ordre sans date de libraison assigner au 31-DEC-2099\n",
    "# Type from String to Date for Date columns: 'purchased_at', 'delvd_customer_dt'\n",
    "df_ordlight = df_orders_light.withColumn('purchased_at', to_date(df_orders_light.purchased_at,'dd.MM.yy HH:mm')) \\\n",
    "                             .withColumn('delvd_customer_dt', to_date(df_orders_light.delvd_customer_dt,'dd.MM.yy HH:mm'))\n",
    "\n",
    "#df_ordlight.printSchema()\n",
    "# df_ordlight.show()"
   ]
  },
  {
   "cell_type": "code",
   "execution_count": 12,
   "id": "boring-thesis",
   "metadata": {},
   "outputs": [
    {
     "name": "stdout",
     "output_type": "stream",
     "text": [
      "99441\n"
     ]
    }
   ],
   "source": [
    "total_ord_nb = df_orders.count()\n",
    "print(total_ord_nb)\n",
    "#df_orders.filter(\"order_id is null or customer_id is null or status is null or purchase_at is null or approved_at is null or delvd_carrier_dt is null or delvd_customer_dt is null or estimated_delivery_dt is null \").count()\n",
    "\n",
    "# nb of records with null value against orders's features\n",
    "# \"order_id\",\"customer_id\", \"status\",\"purchase_at\",\"delvd_customer_dt\"\n",
    "# df_ordlight.filter(\"status is null\").count() # 0\n",
    "# df_ordlight.filter(\"purchased_at is null\").count() # 0\n",
    "# nb_not_delivered = df_ordlight.filter(\"delvd_customer_dt is null\").count() # 0\n",
    "# pct_not_delivered = (nb_not_delivered/total_ord_nb)*100\n",
    "# print(pct_not_delivered)\n",
    "#df_orders.filter(\"status is null or purchase_at is null or delvd_customer_dt is null\").count()\n",
    "# total_ord_nb = df_ordlight.count()\n",
    "# print(total_ord_nb)"
   ]
  },
  {
   "cell_type": "code",
   "execution_count": 13,
   "id": "chubby-reader",
   "metadata": {},
   "outputs": [
    {
     "name": "stdout",
     "output_type": "stream",
     "text": [
      "+------------+\n",
      "|dlvryAvgDays|\n",
      "+------------+\n",
      "|        12.5|\n",
      "+------------+\n",
      "\n"
     ]
    }
   ],
   "source": [
    "dfOrds = df_ordlight.withColumn(\"status\", regexp_replace(\"status\", \"canceled\",\"0\"))\\\n",
    "         .withColumn(\"status\", regexp_replace(\"status\", \"unavailable\",\"0\"))\\\n",
    "         .withColumn(\"status\", regexp_replace(\"status\", \"created\",\"1\"))\\\n",
    "         .withColumn(\"status\", regexp_replace(\"status\", \"approved\",\"1\"))\\\n",
    "         .withColumn(\"status\", regexp_replace(\"status\", \"invoiced\",\"1\"))\\\n",
    "         .withColumn(\"status\", regexp_replace(\"status\", \"processing\",\"1\"))\\\n",
    "         .withColumn(\"status\", regexp_replace(\"status\", \"shipped\",\"1\"))\\\n",
    "         .withColumn(\"status\", regexp_replace(\"status\", \"delivered\",\"1\"))\\\n",
    "         .withColumnRenamed(\"status\",\"Succes\")\\\n",
    "         .withColumn(\"nbDaysTobeDelvd\", datediff(\"delvd_customer_dt\",\"purchased_at\"))\\\n",
    "         .withColumn(\"DlvyDays\", when(col(\"nbDaysTobeDelvd\") < 6,\"Fast\")\\\n",
    "         .when(col(\"nbDaysTobeDelvd\") < 6,\"Slow\")  # lorsque la livraison a pris moins de 12j on l'assigne comme rapide (1) sinon (0)\n",
    "         .otherwise(\"Medium\"))\n",
    "\n",
    "dfOrds.createOrReplaceTempView(\"orders\")\n",
    "\n",
    "res = spark.sql(\"select round(avg(nbDaysTobeDelvd),2) dlvryAvgDays from orders where delvd_customer_dt <> to_date('31-12-2099','dd-MM-yyyy') \")\n",
    "res.show()# pas de redondance"
   ]
  },
  {
   "cell_type": "code",
   "execution_count": 14,
   "id": "waiting-tomato",
   "metadata": {},
   "outputs": [
    {
     "name": "stdout",
     "output_type": "stream",
     "text": [
      "+--------------------+--------------------+------+------------+-----------------+---------------+--------+\n",
      "|            order_id|         customer_id|Succes|purchased_at|delvd_customer_dt|nbDaysTobeDelvd|DlvyDays|\n",
      "+--------------------+--------------------+------+------------+-----------------+---------------+--------+\n",
      "|e481f51cbdc54678b...|9ef432eb625129730...|     1|  2017-10-02|       2017-10-10|              8|  Medium|\n",
      "|53cdb2fc8bc7dce0b...|b0830fb4747a6c6d2...|     1|  2018-07-24|       2018-08-07|             14|  Medium|\n",
      "|47770eb9100c2d0c4...|41ce2a54c0b03bf34...|     1|  2018-08-08|       2018-08-17|              9|  Medium|\n",
      "|949d5b44dbf5de918...|f88197465ea7920ad...|     1|  2017-11-18|       2017-12-02|             14|  Medium|\n",
      "|ad21c59c0840e6cb8...|8ab97904e6daea886...|     1|  2018-02-13|       2018-02-16|              3|    Fast|\n",
      "|a4591c265e18cb1dc...|503740e9ca751ccdd...|     1|  2017-07-09|       2017-07-26|             17|  Medium|\n",
      "|6514b8ad8028c9f2c...|9bdf08b4b3b52b552...|     1|  2017-05-16|       2017-05-26|             10|  Medium|\n",
      "|76c6e866289321a7c...|f54a9f0e6b351c431...|     1|  2017-01-23|       2017-02-02|             10|  Medium|\n",
      "|e69bfb5eb88e0ed6a...|31ad1d1b63eb99624...|     1|  2017-07-29|       2017-08-16|             18|  Medium|\n",
      "|e6ce16cb79ec1d90b...|494dded5b201313c6...|     1|  2017-05-16|       2017-05-29|             13|  Medium|\n",
      "|34513ce0c4fab462a...|7711cf624183d843a...|     1|  2017-07-13|       2017-07-19|              6|  Medium|\n",
      "|82566a660a982b15f...|d3e3b74c766bc6214...|     1|  2018-06-07|       2018-06-19|             12|  Medium|\n",
      "|5ff96c15d0b717ac6...|19402a48fe860416a...|     1|  2018-07-25|       2018-07-30|              5|    Fast|\n",
      "|432aaf21d85167c2c...|3df704f53d3f1d481...|     1|  2018-03-01|       2018-03-12|             11|  Medium|\n",
      "|dcb36b511fcac050b...|3b6828a50ffe54694...|     1|  2018-06-07|       2018-06-21|             14|  Medium|\n",
      "|403b97836b0c04a62...|738b086814c6fcc74...|     1|  2018-01-02|       2018-01-20|             18|  Medium|\n",
      "|116f0b09343b49556...|3187789bec9909876...|     1|  2017-12-26|       2018-01-08|             13|  Medium|\n",
      "|85ce859fd6dc634de...|059f7fc5719c7da6c...|     1|  2017-11-21|       2017-11-27|              6|  Medium|\n",
      "|83018ec114eee8641...|7f8c8b9c2ae27bf33...|     1|  2017-10-26|       2017-11-08|             13|  Medium|\n",
      "|203096f03d82e0dff...|d2b091571da224a1b...|     1|  2017-09-18|       2017-10-09|             21|  Medium|\n",
      "+--------------------+--------------------+------+------------+-----------------+---------------+--------+\n",
      "only showing top 20 rows\n",
      "\n"
     ]
    }
   ],
   "source": [
    "res = spark.sql(\"select * from orders where delvd_customer_dt <> to_date('31-12-2099','dd-MM-yyyy') \")\n",
    "res.show()# pas de redondance"
   ]
  },
  {
   "cell_type": "markdown",
   "id": "unauthorized-massage",
   "metadata": {},
   "source": [
    "## Cleaning & transforming Order Items\n",
    "***\n",
    "df_ordItems est le dataframe utilisé lors de l'évaluation des modèles de prédication<BR>\n",
    " - jointure: order_id, product_id, seller_id \n",
    " - Features: shipping_limit_date, price, freight_value"
   ]
  },
  {
   "cell_type": "code",
   "execution_count": 15,
   "id": "brutal-entrance",
   "metadata": {},
   "outputs": [
    {
     "name": "stdout",
     "output_type": "stream",
     "text": [
      "112650\n",
      "root\n",
      " |-- order_id: string (nullable = true)\n",
      " |-- product_id: string (nullable = true)\n",
      " |-- seller_id: string (nullable = true)\n",
      " |-- shipping_limit_date: string (nullable = true)\n",
      " |-- price: double (nullable = true)\n",
      " |-- freight_value: double (nullable = true)\n",
      "\n"
     ]
    }
   ],
   "source": [
    "# \"order_id\",\"order_item_id\", \"product_id\",\"seller_id\",\"price\",\"freight_value\",\"shipping_limit_date\"\n",
    "totalNbItems = df_order_items.count()\n",
    "print(totalNbItems)  # 112650 items\n",
    "# df_order_items.filter(\"product_id is NULL\").count() # 0\n",
    "# df_order_items.filter(\"price is null\").count() # 0\n",
    "# df_order_items.filter(\"freight_value is null\").count() # 0\n",
    "# df_order_items.filter(\"shipping_limit_date is null\").count() # 0\n",
    "\n",
    "# df_order_items.createOrReplaceTempView(\"orderItems\")\n",
    "# res = spark.sql(\"select order_id, order_item_id, product_id, seller_id from orderItems group by order_id, order_item_id, product_id, seller_id having count(*)>1\")\n",
    "# res.show() # pas de redondance\n",
    "\n",
    "\n",
    "rv_items_col=[\"order_item_id\"]\n",
    "df_ordItems = df_order_items.drop(*rv_items_col)\n",
    "df_ordItems.printSchema()"
   ]
  },
  {
   "cell_type": "code",
   "execution_count": 16,
   "id": "cardiac-living",
   "metadata": {},
   "outputs": [],
   "source": [
    "#df_orditems_light.select(countDistinct(\"product_id\")).show()\n",
    "#df_items_cnt = df_orditems_light.groupBy(\"product_id\").count()\n",
    "#df_items_cnt.orderBy(df_items_cnt[\"count\"].desc()).show()\n"
   ]
  },
  {
   "cell_type": "markdown",
   "id": "virgin-proposal",
   "metadata": {},
   "source": [
    "## Cleaning & transforming Products\n",
    "***\n",
    "dfProducts est le dataframe utilisé lors de l'évaluation des modèles de prédication<BR>\n",
    " - jointure: product_id\n",
    " - Features: product_photos_qty\n",
    " - Information: product_category_name\n",
    " - remove: product_name_lenght, product_description_lenght, product_weight_g, product_length_cm, product_height_cm, product_width_cm\n",
    "    \n",
    "    "
   ]
  },
  {
   "cell_type": "code",
   "execution_count": 17,
   "id": "motivated-placement",
   "metadata": {},
   "outputs": [
    {
     "name": "stdout",
     "output_type": "stream",
     "text": [
      "root\n",
      " |-- product_id: string (nullable = true)\n",
      " |-- product_category_name: string (nullable = true)\n",
      " |-- product_photos_qty: double (nullable = true)\n",
      "\n",
      "32341\n",
      "32951\n",
      "98.1487663500349\n",
      "+--------------------+---------------------+------------------+\n",
      "|          product_id|product_category_name|product_photos_qty|\n",
      "+--------------------+---------------------+------------------+\n",
      "|137f49a66ce117db7...| agro_industria_e_...|               2.0|\n",
      "|1ff03883acc92ad1f...| agro_industria_e_...|               3.0|\n",
      "|a0fe1efb855f3e786...| agro_industria_e_...|               1.0|\n",
      "|be55ae76be8824525...| agro_industria_e_...|               2.0|\n",
      "|24fee4a800146a478...| agro_industria_e_...|               1.0|\n",
      "|ba1d7e7ee1f055d25...| agro_industria_e_...|               6.0|\n",
      "|1f541a93f4fa4b8d1...| agro_industria_e_...|               1.0|\n",
      "|137ace556a03792cd...| agro_industria_e_...|               1.0|\n",
      "|cf4f52b8f3c906f11...| agro_industria_e_...|               2.0|\n",
      "|b5015f9057f27b5bd...| agro_industria_e_...|               3.0|\n",
      "|c89226b8a795ae3d6...| agro_industria_e_...|               2.0|\n",
      "|613d093272cb8f74f...| agro_industria_e_...|               1.0|\n",
      "|018ca97302e429305...| agro_industria_e_...|               1.0|\n",
      "|423a6644f0aa529e8...| agro_industria_e_...|               3.0|\n",
      "|672e757f331900b9d...| agro_industria_e_...|               1.0|\n",
      "|4796ab0f0b86b1d3a...| agro_industria_e_...|               1.0|\n",
      "|b5aebb467d9a92162...| agro_industria_e_...|               3.0|\n",
      "|cd2f5c10e4e8dbc70...| agro_industria_e_...|               7.0|\n",
      "|db96ef2aef93a5a96...| agro_industria_e_...|               1.0|\n",
      "|163a503e8aa4c48bf...| agro_industria_e_...|               1.0|\n",
      "+--------------------+---------------------+------------------+\n",
      "only showing top 20 rows\n",
      "\n"
     ]
    }
   ],
   "source": [
    "rv_prd_col=[\"product_name_lenght\",\"product_description_lenght\",\"product_weight_g\", \"product_length_cm\", \"product_height_cm\", \"product_width_cm\"]\n",
    "dfProducts = df_products.drop(*rv_prd_col)\\\n",
    "                               .filter(\"product_category_name is not null\")\n",
    "\n",
    "dfProducts.printSchema()\n",
    "nbTotalProd = df_products.count()\n",
    "nbCategory = dfProducts.count() # 610\n",
    "print(nbCategory) # 610 records sans categorie\n",
    "print(nbTotalProd)  # 32951 produits au total\n",
    "print((nbCategory/nbTotalProd)*100)\n",
    "\n",
    "dfProducts.createOrReplaceTempView(\"products\")\n",
    "res = spark.sql(\"select * from products order by product_category_name\")\n",
    "res.show()"
   ]
  },
  {
   "cell_type": "markdown",
   "id": "instructional-laser",
   "metadata": {},
   "source": [
    "## Cleaning & transforming Category names\n",
    "***\n",
    "df_category_names est le dataframe utilisé lors de l'évaluation des modèles de prédication<BR> \n",
    " - Information: category_name, category_name_en\n"
   ]
  },
  {
   "cell_type": "code",
   "execution_count": 18,
   "id": "focal-lightweight",
   "metadata": {},
   "outputs": [
    {
     "name": "stdout",
     "output_type": "stream",
     "text": [
      "+--------------------+--------------------+\n",
      "|       category_name|    category_name_en|\n",
      "+--------------------+--------------------+\n",
      "|        beleza_saude|       health_beauty|\n",
      "|informatica_acess...|computers_accesso...|\n",
      "|          automotivo|                auto|\n",
      "|     cama_mesa_banho|      bed_bath_table|\n",
      "|    moveis_decoracao|     furniture_decor|\n",
      "|       esporte_lazer|      sports_leisure|\n",
      "|          perfumaria|           perfumery|\n",
      "|utilidades_domest...|          housewares|\n",
      "|           telefonia|           telephony|\n",
      "|  relogios_presentes|       watches_gifts|\n",
      "|   alimentos_bebidas|          food_drink|\n",
      "|               bebes|                baby|\n",
      "|           papelaria|          stationery|\n",
      "|tablets_impressao...|tablets_printing_...|\n",
      "|          brinquedos|                toys|\n",
      "|      telefonia_fixa|     fixed_telephony|\n",
      "|  ferramentas_jardim|        garden_tools|\n",
      "|fashion_bolsas_e_...|fashion_bags_acce...|\n",
      "|     eletroportateis|    small_appliances|\n",
      "|      consoles_games|      consoles_games|\n",
      "+--------------------+--------------------+\n",
      "only showing top 20 rows\n",
      "\n"
     ]
    }
   ],
   "source": [
    "#df_category_names.orderBy(\"category_name\").show()\n",
    "# portateis_cozinha_e_preparadores_de_alimentos\n",
    "# pc_gamer\n",
    "missingCat = [[\"pc_gamer\",\"pc_gamer\"],[\"portateis_cozinha_e_preparadores_de_alimentos\",\"portable kitchen and food preparers\"]]\n",
    "df_missingCat = spark.createDataFrame(missingCat)\n",
    "dfCategoryNm = df_category_names.unionAll(df_missingCat)\n",
    "dfCategoryNm.show()"
   ]
  },
  {
   "cell_type": "markdown",
   "id": "traditional-parallel",
   "metadata": {},
   "source": [
    "## Cleaning & transforming Reviews\n",
    "***\n",
    "dfReviews (order_id,score) est le dataframe utilisé lors de l'évaluation des modèles de prédication<BR>\n",
    " - jointure: order_id\n",
    " - Features: review_score\n",
    " - Remove  : \"review_id\", \"review_comment_title\", \"review_comment_message\", \"review_creation_date\", \"review_answer_timestamp\"\n",
    " "
   ]
  },
  {
   "cell_type": "code",
   "execution_count": 19,
   "id": "least-enough",
   "metadata": {},
   "outputs": [
    {
     "name": "stdout",
     "output_type": "stream",
     "text": [
      "root\n",
      " |-- order_id: string (nullable = true)\n",
      " |-- review_score: integer (nullable = true)\n",
      "\n",
      "+--------------------+-----+\n",
      "|            order_id|score|\n",
      "+--------------------+-----+\n",
      "|e239d280236cdd3c4...|  5.0|\n",
      "|d451da9b109e1786f...|  5.0|\n",
      "|0de5dbc9f32267616...|  4.0|\n",
      "|251f0a3981c4a8cb8...|  5.0|\n",
      "|f63a31c3349b87273...|  5.0|\n",
      "|800c2d74bc71b0e27...|  3.0|\n",
      "|2634d2363b155e0d1...|  5.0|\n",
      "|1c7b6d63329bdc850...|  5.0|\n",
      "|5347a7f07b3387d2d...|  3.0|\n",
      "|0bcc4cc85c24f23e2...|  5.0|\n",
      "|2c88b5879d666444b...|  5.0|\n",
      "|48e6590a35c4212b1...|  4.0|\n",
      "|a9f77c0325604197d...|  5.0|\n",
      "|fcb5deccd553af305...|  4.0|\n",
      "|0d4a43cf7b7994e0a...|  5.0|\n",
      "|a684a880595e155b0...|  1.0|\n",
      "|d43547ebdfd7f5f70...|  3.0|\n",
      "|fc79d61f2a305370f...|  5.0|\n",
      "|478e0f644b5e774c5...|  1.0|\n",
      "|c349154248a3236a0...|  1.0|\n",
      "+--------------------+-----+\n",
      "only showing top 20 rows\n",
      "\n"
     ]
    }
   ],
   "source": [
    "rv_reviews_col=[\"review_id\",\"review_comment_title\",\"review_comment_message\",\"review_creation_date\",\"review_answer_timestamp\"]\n",
    "df_ordreviews_light = df_order_reviews.drop(*rv_reviews_col)\n",
    "df_ordreviews_light.printSchema()\n",
    "#df_ordreviews_light.show()\n",
    "\n",
    "df_ordreviews_light.createOrReplaceTempView(\"reviews\")\n",
    "# Si un ordre a plusieurs revues alors on fait la moyenne\n",
    "dfReviews = spark.sql(\"select order_id, avg(review_score) score  from reviews where review_score is not null and order_id is not null group by order_id\")\n",
    "dfReviews.show()"
   ]
  },
  {
   "cell_type": "markdown",
   "id": "hindu-africa",
   "metadata": {},
   "source": [
    "## Cleaning & transforming Customers\n",
    "***\n",
    "dfCustomers (customer_id, customer_zip_code_prefix, customer_city, customer_state) est le dataframe utilisé lors de l'évaluation des modèles de prédication<BR>\n",
    " - jointure: customer_id\n",
    " - Features: customer_zip_code_prefix, customer_city, customer_state\n",
    " - Remove  : \"customer_unique_id\""
   ]
  },
  {
   "cell_type": "code",
   "execution_count": 20,
   "id": "regulated-postage",
   "metadata": {},
   "outputs": [
    {
     "name": "stdout",
     "output_type": "stream",
     "text": [
      "root\n",
      " |-- customer_id: string (nullable = true)\n",
      " |-- customer_zip_code_prefix: string (nullable = true)\n",
      " |-- customer_city: string (nullable = true)\n",
      " |-- customer_state: string (nullable = true)\n",
      "\n",
      "+--------------------+------------------------+--------------------+--------------+\n",
      "|         customer_id|customer_zip_code_prefix|       customer_city|customer_state|\n",
      "+--------------------+------------------------+--------------------+--------------+\n",
      "|06b8999e2fba1a1fb...|                   14409|              franca|            SP|\n",
      "|18955e83d337fd6b2...|                   09790|sao bernardo do c...|            SP|\n",
      "|4e7b3e00288586ebd...|                   01151|           sao paulo|            SP|\n",
      "|b2b6027bc5c5109e5...|                   08775|     mogi das cruzes|            SP|\n",
      "|4f2d8ab171c80ec83...|                   13056|            campinas|            SP|\n",
      "|879864dab9bc30475...|                   89254|      jaragua do sul|            SC|\n",
      "|fd826e7cf63160e53...|                   04534|           sao paulo|            SP|\n",
      "|5e274e7a0c3809e14...|                   35182|             timoteo|            MG|\n",
      "|5adf08e34b2e99398...|                   81560|            curitiba|            PR|\n",
      "|4b7139f34592b3a31...|                   30575|      belo horizonte|            MG|\n",
      "|9fb35e4ed6f0a14a4...|                   39400|       montes claros|            MG|\n",
      "|5aa9e4fdd4dfd2095...|                   20231|      rio de janeiro|            RJ|\n",
      "|b2d1536598b73a9ab...|                   18682|    lencois paulista|            SP|\n",
      "|eabebad39a88bb6f5...|                   05704|           sao paulo|            SP|\n",
      "|1f1c7bf1c9b041b29...|                   95110|       caxias do sul|            RS|\n",
      "|206f3129c0e4d7d0b...|                   13412|          piracicaba|            SP|\n",
      "|a7c125a0a07b75146...|                   22750|      rio de janeiro|            RJ|\n",
      "|c5c61596a3b6bd0ce...|                   07124|           guarulhos|            SP|\n",
      "|9b8ce803689b3562d...|                   05416|           sao paulo|            SP|\n",
      "|49d0ea0986edde72d...|                   68485|              pacaja|            PA|\n",
      "+--------------------+------------------------+--------------------+--------------+\n",
      "only showing top 20 rows\n",
      "\n"
     ]
    }
   ],
   "source": [
    "# Customers\n",
    "rv_customers_col=[\"customer_unique_id\"]\n",
    "dfCustomers = df_customers.drop(*rv_customers_col)\n",
    "dfCustomers.printSchema()\n",
    "dfCustomers.createOrReplaceTempView(\"customers\")\n",
    "# res = spark.sql(\"select * from customers where customer_state is null\") # 0\n",
    "# res = spark.sql(\"select customer_id from customers group by customer_id having count(*)> 1\") # Pas de redondance\n",
    "res = spark.sql(\"select * from customers \") \n",
    "res.show()"
   ]
  },
  {
   "cell_type": "markdown",
   "id": "historical-italian",
   "metadata": {},
   "source": [
    "## Cleaning & transforming Payments\n",
    "***\n",
    "dfPayments (order_id, payment_type, payment_value) est le dataframe utilisé lors de l'évaluation des modèles de prédication<BR>\n",
    " - jointure: order_id\n",
    " - Features: payment_type, payment_value\n",
    " - Remove  : \"payment_sequential\",\"payment_installments\""
   ]
  },
  {
   "cell_type": "code",
   "execution_count": 21,
   "id": "yellow-sustainability",
   "metadata": {},
   "outputs": [
    {
     "name": "stdout",
     "output_type": "stream",
     "text": [
      "root\n",
      " |-- order_id: string (nullable = true)\n",
      " |-- payment_type: string (nullable = true)\n",
      " |-- payment_value: double (nullable = true)\n",
      "\n"
     ]
    }
   ],
   "source": [
    "# Payments\n",
    "rv_payments_col=[\"payment_sequential\",\"payment_installments\"]\n",
    "dfPayments = df_payments.drop(*rv_payments_col)\n",
    "dfPayments.printSchema()"
   ]
  },
  {
   "cell_type": "code",
   "execution_count": 22,
   "id": "sorted-cameroon",
   "metadata": {},
   "outputs": [],
   "source": [
    "# Sellers\n",
    "#rv_sellers_col=[\"seller_id\"]\n",
    "#df_sellers_light = df_sellers.drop(*rv_sellers_col)\n",
    "#df_sellers_light.printSchema()"
   ]
  },
  {
   "cell_type": "code",
   "execution_count": 23,
   "id": "bored-privacy",
   "metadata": {},
   "outputs": [],
   "source": [
    "# Geolocation\n",
    "rv_geo_col=[\"geolocation_lat\",\"geolocation_lng\"]\n",
    "df_geo_light = df_geo.drop(*rv_geo_col)\n",
    "# df_geo_light.printSchema()"
   ]
  },
  {
   "cell_type": "markdown",
   "id": "protecting-bench",
   "metadata": {},
   "source": [
    "## Transforming Model\n",
    "***\n",
    "1. Join tables\n",
    "2. Project into one single tables"
   ]
  },
  {
   "cell_type": "code",
   "execution_count": 58,
   "id": "numeric-figure",
   "metadata": {},
   "outputs": [
    {
     "name": "stdout",
     "output_type": "stream",
     "text": [
      "root\n",
      " |-- Succes: string (nullable = true)\n",
      " |-- product_id: string (nullable = true)\n",
      " |-- category_name_en: string (nullable = true)\n",
      " |-- product_photos_qty: double (nullable = true)\n",
      " |-- price: double (nullable = true)\n",
      " |-- freight_value: double (nullable = true)\n",
      " |-- nbDaysTobeDelvd: integer (nullable = true)\n",
      " |-- DlvyDays: string (nullable = false)\n",
      " |-- review_score: integer (nullable = true)\n",
      "\n",
      "95051\n",
      "+---------+--------+--------------------------------+---------------------+------------------+-----+-------------+---------------+--------+\n",
      "|prdVendus|avgScore|product_id                      |category_name_en     |product_photos_qty|price|freight_value|nbDaysTobeDelvd|DlvyDays|\n",
      "+---------+--------+--------------------------------+---------------------+------------------+-----+-------------+---------------+--------+\n",
      "|22.0     |4.73    |aca2eb7d00ea1a7b8ebd4e68314663af|furniture_decor      |6.0               |69.9 |12.43        |4              |Fast    |\n",
      "|20.0     |1.0     |9571759451b1d780ee7c15012ea109d4|auto                 |1.0               |98.7 |14.44        |10             |Medium  |\n",
      "|20.0     |1.0     |ee3d532c8a438679776d222e997606b3|computers_accessories|1.0               |100.0|10.12        |11             |Medium  |\n",
      "|19.0     |4.84    |aca2eb7d00ea1a7b8ebd4e68314663af|furniture_decor      |6.0               |69.9 |12.43        |2              |Fast    |\n",
      "|16.0     |4.13    |53b36df67ebb7c41585e8d54d6772e08|watches_gifts        |3.0               |99.9 |0.0          |10             |Medium  |\n",
      "|16.0     |4.0     |99a4788cb24856965c36a24e339b6058|bed_bath_table       |1.0               |89.9 |12.13        |10             |Medium  |\n",
      "|16.0     |4.31    |aca2eb7d00ea1a7b8ebd4e68314663af|furniture_decor      |6.0               |69.9 |13.08        |5              |Fast    |\n",
      "|15.0     |5.0     |37eb69aca8718e843d897aa7b82f462d|garden_tools         |2.0               |51.0 |1.2          |15             |Medium  |\n",
      "|15.0     |5.0     |89b190a046022486c635022524a974a8|furniture_decor      |2.0               |65.49|16.22        |20             |Medium  |\n",
      "|15.0     |4.4     |aca2eb7d00ea1a7b8ebd4e68314663af|furniture_decor      |6.0               |69.9 |0.0          |8              |Medium  |\n",
      "|14.0     |1.0     |422879e10f46682990de24d770e7f83d|garden_tools         |2.0               |59.0 |13.43        |15             |Medium  |\n",
      "|14.0     |1.0     |44a5d24dd383324a421569ca697b13c2|telephony            |1.0               |29.99|7.78         |8              |Medium  |\n",
      "|14.0     |3.86    |53b36df67ebb7c41585e8d54d6772e08|watches_gifts        |3.0               |99.9 |0.0          |12             |Medium  |\n",
      "|14.0     |3.93    |aca2eb7d00ea1a7b8ebd4e68314663af|furniture_decor      |6.0               |69.9 |12.43        |5              |Fast    |\n",
      "|14.0     |4.43    |aca2eb7d00ea1a7b8ebd4e68314663af|furniture_decor      |6.0               |69.9 |13.08        |6              |Medium  |\n",
      "|13.0     |4.38    |422879e10f46682990de24d770e7f83d|garden_tools         |2.0               |59.9 |17.67        |12             |Medium  |\n",
      "|13.0     |1.31    |a62e25e09e05e6faf31d90c6ec1aa3d1|watches_gifts        |2.0               |108.0|15.52        |11             |Medium  |\n",
      "|13.0     |2.54    |aca2eb7d00ea1a7b8ebd4e68314663af|furniture_decor      |6.0               |75.0 |13.08        |7              |Medium  |\n",
      "|13.0     |3.0     |d34c07a2d817ac73f4caf8c574215fed|telephony            |1.0               |29.99|7.39         |11             |Medium  |\n",
      "|12.0     |5.0     |03e1c946c0ddfc58724ff262aef08dff|housewares           |1.0               |20.7 |16.11        |9              |Medium  |\n",
      "+---------+--------+--------------------------------+---------------------+------------------+-----+-------------+---------------+--------+\n",
      "only showing top 20 rows\n",
      "\n"
     ]
    }
   ],
   "source": [
    "# joining\n",
    "# orders - ord: order_id|         customer_id|Succes|purchased_at|delvd_customer_dt|nbDaysTobeDelvd|DlvyLess12Days\n",
    "# order items - \"order_id\", \"product_id\",\"seller_id\",\"price\",\"freight_value\",\"shipping_limit_date\"\n",
    "# order reviews\n",
    "# order payment\n",
    "# customers\n",
    "# sellers\n",
    "# geolocation\n",
    "#\n",
    "\n",
    "#df_itemsProd = df_ordItems.alias(\"oItems\") \\\n",
    "#                          .join(dfProducts.alias(\"prd\"), df_ordItems[\"product_id\"] == dfProducts[\"product_id\"], \"leftouter\") \\\n",
    "#                          .select(col(\"oItems.product_id\").alias(\"itmprdId\"),col(\"prd.product_id\").alias(\"prdId\"))\n",
    "                          \n",
    "# 112650\n",
    "# df_itemsProd.createOrReplaceTempView(\"itmProd\")\n",
    "# res1 = spark.sql(\"select count(*) from itmProd\")  #  1603 prdId is null - total: 112650\n",
    "# res1.show()          \n",
    "\n",
    "#\"prd.product_category_name\", \"catNm.category_name\", \"catNm.category_name_en\", \n",
    "#df_features = dfOrds.alias(\"ord\") \\\n",
    "#          .join(df_ordItems.alias(\"itm\"), dfOrds[\"order_id\"] == df_ordItems[\"order_id\"], \"inner\") \\\n",
    "#          .join(dfReviews.alias(\"rvw\"),dfOrds[\"order_id\"] == dfReviews[\"order_id\"], \"inner\")\\\n",
    "#.join(dfProducts.alias(\"prd\"), df_ordItems[\"product_id\"] == dfProducts[\"product_id\"], \"inner\") \\\n",
    "#.join(df_category_names.alias(\"catNm\"), dfProducts[\"product_category_name\"] == df_category_names[\"category_name\"], \"inner\")\\\n",
    "#.select(\"ord.order_id\",\"ord.customer_id\",\"ord.Succes\",\"ord.DlvyLess12Days\", \\\n",
    "#                  \"itm.product_id\", \"itm.seller_id\",\"itm.price\", \"itm.freight_value\", \\\n",
    "#                  \"catNm.category_name_en\",\"rvw.score\") \n",
    "\n",
    "dfPrds = dfProducts.alias(\"prd\")\\\n",
    "               .join(dfCategoryNm.alias(\"catNm\"), dfProducts[\"product_category_name\"] == dfCategoryNm[\"category_name\"], \"leftouter\")\\\n",
    "               .join(df_ordItems.alias(\"ordItm\"), dfProducts[\"product_id\"] == df_ordItems[\"product_id\"], \"leftouter\")\\\n",
    "               .join(dfOrds.alias(\"ord\"), df_ordItems[\"order_id\"] == dfOrds[\"order_id\"], \"inner\") \\\n",
    "               .join(df_ordreviews_light.alias(\"rw\"),dfOrds[\"order_id\"] == df_ordreviews_light[\"order_id\"], \"leftouter\")\\\n",
    "               .select(\"ord.Succes\", \"prd.product_id\",\"catNm.category_name_en\", \"prd.product_photos_qty\", \\\n",
    "                       \"ordItm.price\", \"ordItm.freight_value\",\\\n",
    "                       \"ord.nbDaysTobeDelvd\", \"ord.DlvyDays\", \\\n",
    "                       \"rw.review_score\")\n",
    "    \n",
    "dfPrds.printSchema()\n",
    "dfPrds.createOrReplaceTempView(\"prod\")\n",
    "# each product is assigned to a category\n",
    "# res = spark.sql(\"select product_id from prod where category_name is null\")\n",
    "# each product is unique\n",
    "# res = spark.sql(\"select product_id from prod group by product_id having count(*)>1\")\n",
    "# Nb of categories: 73\n",
    "# res = spark.sql(\"select distinct category_name_en from prod\")\n",
    "# article non vendu: 0\n",
    "# res = spark.sql(\"select * from prod where order_id is null\")\n",
    "res = spark.sql(\"select sum(Succes) prdVendus, \" + \\\n",
    "                 \" round(avg(review_score),2) avgScore, \" + \\\n",
    "                \" product_id,category_name_en,\" + \\\n",
    "                \" product_photos_qty,\" + \\\n",
    "                \" price,freight_value,\" + \\\n",
    "                \" nbDaysTobeDelvd,\" + \\\n",
    "                \" DlvyDays from prod \" + \\\n",
    "                \" group by \" + \\\n",
    "                \" product_id,category_name_en,product_photos_qty,\" + \\\n",
    "                \" price,freight_value,\" + \\\n",
    "                \" nbDaysTobeDelvd, DlvyDays order by 1 desc, 3\")\n",
    "print(res.count())\n",
    "res.show(truncate=0)\n",
    "\n",
    "#         \n",
    "#         .join(df_pay_light,df_orders_light[\"order_id\"] == df_pay_light[\"order_id\"], \"inner\")\\\n",
    "#         .drop(\"order_id\")\\\n",
    "#         .join(df_customers_light,df_orders_light[\"customer_id\"] == df_customers_light[\"customer_id\"], \"inner\")\\\n",
    "#         .drop(\"customer_id\")\\\n",
    "#.join(df_sellers,df_orditems_light[\"seller_id\"] == df_sellers[\"seller_id\"], \"inner\")\\\n",
    "#.drop(\"seller_id\")\\\n",
    "#.join(df_geo_light,df_geo_light[\"geolocation_zip_code_prefix\"] == df_customers_light[\"customer_zip_code_prefix\"], \"inner\")\\\n",
    "#.join(df_geo_light,df_geo_light[\"geolocation_zip_code_prefix\"] == df_sellers[\"seller_zip_code_prefix\"], \"inner\")\\\n",
    "#.drop(\"seller_zip_code_prefix\")\\\n",
    "#.drop(\"customer_zip_code_prefix\")\\\n",
    "#.drop(\"geolocation_zip_code_prefix\")\n",
    "\n",
    "\n",
    "# Orders: \"order_id\",\"customer_id\", \"status\",\"purchase_at\",\"delvd_customer_dt\"\n",
    "# Order Items: \"order_item_id\", \"product_id\",\"seller_id\",\"price\",\"freight_value\",\"shipping_limit_date\"\n",
    "# Reviews: \"review_score\"\n",
    "# Customers: \"customer_zip_code_prefix\",\"customer_zip_code_prefix\",\"customer_state\"\n",
    "# Payments: \"payment_type\",\"payment_value\"\n",
    "# Products: \"product_category_name\",\"product_photos_qty\"\n",
    "\n",
    "\n",
    "\n",
    "\n",
    "# res = spark.sql(\"SELECT succes, score, product_id, price from labelFeatures group by succes, score, product_id, price order by product_id\")\n",
    "#res = spark.sql(\"SELECT succes, product_id, category_name_en, count(*) from labelFeatures group by succes, product_id, category_name_en order by category_name_en\")\n",
    "# res.show(truncate=0)\n",
    "\n",
    "\n",
    "\n",
    "#df_features.filter(\"category_name in ('livros_interesse_geral')\").select('review_score','product_id').groupBy(\"review_score\",\"product_id\").count().show()\n",
    "\n",
    "# df_features[0]df_watches_gifts"
   ]
  },
  {
   "cell_type": "markdown",
   "id": "tropical-release",
   "metadata": {},
   "source": [
    "## MOST SUCCESSFUL CATEGORIES\n",
    "***"
   ]
  },
  {
   "cell_type": "code",
   "execution_count": 59,
   "id": "hungarian-bundle",
   "metadata": {},
   "outputs": [
    {
     "name": "stdout",
     "output_type": "stream",
     "text": [
      "73\n",
      "+------------------------+----------+\n",
      "|catgName                |Total_sold|\n",
      "+------------------------+----------+\n",
      "|bed_bath_table          |11254.0   |\n",
      "|health_beauty           |9692.0    |\n",
      "|sports_leisure          |8650.0    |\n",
      "|furniture_decor         |8379.0    |\n",
      "|computers_accessories   |7849.0    |\n",
      "|housewares              |6940.0    |\n",
      "|watches_gifts           |5980.0    |\n",
      "|telephony               |4532.0    |\n",
      "|garden_tools            |4342.0    |\n",
      "|auto                    |4223.0    |\n",
      "|toys                    |4091.0    |\n",
      "|cool_stuff              |3789.0    |\n",
      "|perfumery               |3418.0    |\n",
      "|baby                    |3051.0    |\n",
      "|electronics             |2757.0    |\n",
      "|stationery              |2513.0    |\n",
      "|fashion_bags_accessories|2044.0    |\n",
      "|pet_shop                |1944.0    |\n",
      "|office_furniture        |1700.0    |\n",
      "|consoles_games          |1128.0    |\n",
      "+------------------------+----------+\n",
      "only showing top 20 rows\n",
      "\n"
     ]
    },
    {
     "data": {
      "text/plain": [
       "<AxesSubplot:>"
      ]
     },
     "execution_count": 59,
     "metadata": {},
     "output_type": "execute_result"
    },
    {
     "data": {
      "image/png": "[encoded data removed]",
      "text/plain": [
       "<Figure size 432x288 with 1 Axes>"
      ]
     },
     "metadata": {
      "needs_background": "light"
     },
     "output_type": "display_data"
    }
   ],
   "source": [
    "dfSuccessfullCat = res.groupBy(\"category_name_en\").sum(\"prdVendus\")\\\n",
    ".withColumnRenamed(\"category_name_en\",\"catgName\")\\\n",
    ".withColumnRenamed(\"sum(prdVendus)\",\"Total_sold\")\\\n",
    ".orderBy(col(\"Total_sold\").desc())\n",
    "\n",
    "print(dfSuccessfullCat.count())\n",
    "dfSuccessfullCat.show(truncate=0)\n",
    "\n",
    "pnddf_catg = dfSuccessfullCat.toPandas()\n",
    "#dfSuccessfullCat.index       # nb of records\n",
    "#dfSuccessfullCat.columns     # list of columns\n",
    "#dfSuccessfullCat[['prdVendus', 'avgScore', 'product_id']]\n",
    "\n",
    "pnddf_catgBar = pd.DataFrame(pnddf_catg.loc[0:10, ['catgName', 'Total_sold']],\\\n",
    "                  columns=['catgName', 'Total_sold'])\n",
    "pnddf_catgBar.plot.bar()"
   ]
  },
  {
   "cell_type": "markdown",
   "id": "native-channel",
   "metadata": {},
   "source": [
    "## Analysing Category : bed_bath_table\n",
    "***\n",
    "Transforming Columns\n",
    "1. aggregate per product ID, quantity (sum), score (avg), photo qty(avg), price(avg), freight value(avg), delivery days(avg)"
   ]
  },
  {
   "cell_type": "code",
   "execution_count": 61,
   "id": "unnecessary-breeding",
   "metadata": {},
   "outputs": [
    {
     "name": "stdout",
     "output_type": "stream",
     "text": [
      "3029\n",
      "+--------------------------------+---------+------------------+------+------------------+------------------+------------------+\n",
      "|product_id                      |totalSold|score             |photos|price             |freightPrice      |DlvyDays          |\n",
      "+--------------------------------+---------+------------------+------+------------------+------------------+------------------+\n",
      "|99a4788cb24856965c36a24e339b6058|490.0    |3.711032028469751 |1.0   |87.74647686832732 |17.455302491103204|1190.715302491103 |\n",
      "|f1c7f353075ce59d8a6f3cf58f419c9c|155.0    |4.282075471698113 |5.0   |191.72037735849054|22.423584905660373|294.57547169811323|\n",
      "|06edb72f1e0c64b14c5b79353f7abea3|147.0    |3.8840999999999997|2.0   |40.71679999999998 |14.943800000000001|612.25            |\n",
      "|ec2d43cc59763ec91694573b31f1c29a|131.0    |4.1               |5.0   |45.78443037974685 |14.920379746835444|13.645569620253164|\n",
      "|84f456958365164420cfc80fbe4c7fab|111.0    |3.2173809523809522|1.0   |92.45904761904761 |16.38678571428572 |1079.9166666666667|\n",
      "|777d2e438a1b645f3aec9bd57e92672c|95.0     |3.980769230769231 |1.0   |69.8641025641026  |16.49961538461539 |784.0128205128206 |\n",
      "|363218ba55c610b750224f90bdd34be1|86.0     |4.518000000000001 |1.0   |80.80799999999995 |14.449230769230768|8.36923076923077  |\n",
      "|64fb265487de2238627ce43fe8a67efc|75.0     |3.823529411764706 |1.0   |91.09985294117644 |22.47             |891.6617647058823 |\n",
      "|2a2d22ae30e026f1893083c8405ca522|71.0     |4.237704918032787 |2.0   |143.2196721311474 |25.862622950819684|1495.295081967213 |\n",
      "|bd6e6fce9ada76ea2db0f1912e8e478f|69.0     |3.8555555555555556|1.0   |56.99             |15.217555555555558|15.044444444444444|\n",
      "|0152f69b6cf919bcdaf117aa8c43e5a2|65.0     |3.899433962264151 |1.0   |15.333962264150934|15.234339622641508|1725.9056603773586|\n",
      "|25f86162fee18735fffdb762dcb10d7c|62.0     |4.190408163265306 |2.0   |154.38979591836724|23.278979591836737|621.5714285714286 |\n",
      "|fbce4c4cb307679d89a3bf3d3bb353b9|60.0     |4.0               |1.0   |141.44444444444446|37.698888888888874|10.377777777777778|\n",
      "|386486367c1f9d4f587a8864ccb6902b|58.0     |3.210227272727273 |1.0   |111.21954545454551|18.382272727272724|702.0454545454545 |\n",
      "|fc1d8637c0268af3db482c14b7ef8e75|57.0     |4.336808510638297 |1.0   |149.26170212765953|16.67851063829787 |12.106382978723405|\n",
      "|703d742887bb9267f89b675608ba7aa0|50.0     |4.087142857142857 |2.0   |56.10000000000001 |17.466785714285713|10.857142857142858|\n",
      "|62d8daeee0db3a60c234c2d1bfd10651|49.0     |4.0               |1.0   |27.263636363636355|16.24787878787879 |16.848484848484848|\n",
      "|5b226d7c52f86ac72457617f78cff95d|49.0     |3.8238235294117646|1.0   |61.72735294117647 |16.286764705882355|14.147058823529411|\n",
      "|bb42f37fc3d9130e4a4339d24a47dd7c|48.0     |4.1923076923076925|1.0   |44.900000000000006|11.953076923076928|9.58974358974359  |\n",
      "|8562e2c780a345b609e1b802d7e3e4ae|46.0     |4.14175           |1.0   |79.90000000000005 |18.199499999999997|761.475           |\n",
      "+--------------------------------+---------+------------------+------+------------------+------------------+------------------+\n",
      "only showing top 20 rows\n",
      "\n"
     ]
    }
   ],
   "source": [
    "\n",
    "dfBedBathTable = res.filter(\"category_name_en='bed_bath_table'\")\n",
    "#dfBedBathTable.show(truncate=0)\n",
    "dfBedBathTable.createOrReplaceTempView(\"bbt\")\n",
    "\n",
    "dfSqlbbt = spark.sql(\"select product_id, sum(prdVendus) totalSold\" + \\\n",
    "                     \", avg(avgScore) score \" + \\\n",
    "                     \", avg(product_photos_qty) photos \" + \\\n",
    "                     \", avg(price) price \" + \\\n",
    "                     \", avg(freight_value) freightPrice \" + \\\n",
    "                     \", avg(nbDaysTobeDelvd) DlvyDays \" + \\\n",
    "                     \"from bbt group by product_id order by 2 desc\")\n",
    "print(dfSqlbbt.count())\n",
    "dfSqlbbt.show(truncate=0)\n"
   ]
  },
  {
   "cell_type": "markdown",
   "id": "violent-metallic",
   "metadata": {},
   "source": [
    "### On utilise la colonne du nb d'articles vendus afin de quantifier le succès d'un produit\n",
    "***\n",
    "Par Produit la meilleur vente est de 490 articles => \"<span style=\"font-weight: bold;font-style: italic;color:#3A426C\">VERY_HIGH</SPAN>\"<BR>\n",
    " a. vient une seconde classification de produits dont le nb d'article vendus se situe entre 200 et 100 => \"<span style=\"font-weight: bold;font-style: italic;color:#3A426C\">HIGH</SPAN>\"<BR>\n",
    " b. vient une seconde classification de produits dont le nb d'article vendus se situe entre 100 et 75  => \"<span style=\"font-weight: bold;font-style: italic;color:#3A426C\">MEDIUM</SPAN>\"<BR>\n",
    " c. vient une seconde classification de produits dont le nb d'article vendus inférieur à 75            => \"<span style=\"font-weight: bold;font-style: italic;color:#3A426C\">LOW</SPAN>\"<BR>\n",
    "\n",
    "    "
   ]
  },
  {
   "cell_type": "code",
   "execution_count": 87,
   "id": "corresponding-luxembourg",
   "metadata": {},
   "outputs": [],
   "source": [
    "dfSqlbbt2 = dfSqlbbt.withColumn(\"Success\", when(col(\"totalSold\") > 250,\"VERY_HIGH\")\\\n",
    "         .when(col(\"totalSold\") > 100,\"HIGH\")\\\n",
    "         .when(col(\"totalSold\") > 75,\"MEDIUM\")\\\n",
    "         .otherwise(\"LOW\"))"
   ]
  },
  {
   "cell_type": "code",
   "execution_count": 90,
   "id": "compatible-treat",
   "metadata": {},
   "outputs": [
    {
     "name": "stdout",
     "output_type": "stream",
     "text": [
      "+---------+-----+------+------+------------+--------+\n",
      "|Success  |score|photos|price |freightPrice|DlvyDays|\n",
      "+---------+-----+------+------+------------+--------+\n",
      "|HIGH     |3.87 |3.25  |92.67 |17.17       |500.1   |\n",
      "|LOW      |3.85 |1.39  |107.52|19.8        |555.07  |\n",
      "|VERY_HIGH|3.71 |1.0   |87.75 |17.46       |1190.72 |\n",
      "|MEDIUM   |4.25 |1.0   |75.34 |15.47       |396.19  |\n",
      "+---------+-----+------+------+------------+--------+\n",
      "\n"
     ]
    },
    {
     "data": {
      "text/plain": [
       "<AxesSubplot:>"
      ]
     },
     "execution_count": 90,
     "metadata": {},
     "output_type": "execute_result"
    },
    {
     "data": {
      "image/png": "[encoded data removed]",
      "text/plain": [
       "<Figure size 432x288 with 1 Axes>"
      ]
     },
     "metadata": {
      "needs_background": "light"
     },
     "output_type": "display_data"
    }
   ],
   "source": [
    "dfSqlbbt2.createOrReplaceTempView(\"bbt2\")\n",
    "#dfSqlbbt2_sql = spark.sql(\" select Success from bbt2 group by Success\")\n",
    "dfSqlbbt2_sql = spark.sql(\" select Success, \" + \\\n",
    "                          \" round(avg(score),2) as score,\" + \\\n",
    "                          \" round(avg(photos),2) as photos,\" + \\\n",
    "                          \" round(avg(price),2) as price,\" + \\\n",
    "                          \" round(avg(freightPrice),2) as freightPrice,\" + \\\n",
    "                          \" round(avg(DlvyDays),2) as DlvyDays \" + \\\n",
    "                          \" from bbt2 group by Success\")\n",
    "\n",
    "dfSqlbbt2_sql.show(truncate=0)\n",
    "\n",
    "pnddf_bbt = dfSqlbbt2_sql.toPandas()\n",
    "#pnddf_watches.index       # nb of records\n",
    "#pnddf_watches.columns     # list of columns\n",
    "#pnddf_watches[['prdVendus', 'avgScore', 'product_id']]\n",
    "# FEATURES: score|photos|price|freightPrice|DlvyDays\n",
    "dfPlt_bbt = pd.DataFrame(pnddf_bbt.loc[0:4, ['Success','score', 'photos']],\\\n",
    "                  columns=['Success','score', 'photos'])\n",
    "dfPlt_bbt.plot.bar(stacked=True)"
   ]
  },
  {
   "cell_type": "markdown",
   "id": "expensive-source",
   "metadata": {},
   "source": [
    "## Analysing Category : watches_gifts\n",
    "***\n"
   ]
  },
  {
   "cell_type": "code",
   "execution_count": null,
   "id": "south-memorabilia",
   "metadata": {},
   "outputs": [],
   "source": []
  },
  {
   "cell_type": "code",
   "execution_count": 28,
   "id": "bound-journal",
   "metadata": {},
   "outputs": [
    {
     "name": "stdout",
     "output_type": "stream",
     "text": [
      "4049\n",
      "+---------+--------+--------------------------------+----------------+------------------+------+-------------+--------+\n",
      "|prdVendus|avgScore|product_id                      |category_name_en|product_photos_qty|price |freight_value|DlvyDays|\n",
      "+---------+--------+--------------------------------+----------------+------------------+------+-------------+--------+\n",
      "|120.0    |4.36    |53b36df67ebb7c41585e8d54d6772e08|watches_gifts   |3.0               |99.9  |0.0          |Medium  |\n",
      "|40.0     |2.95    |a62e25e09e05e6faf31d90c6ec1aa3d1|watches_gifts   |2.0               |108.0 |15.52        |Medium  |\n",
      "|27.0     |4.3     |53b36df67ebb7c41585e8d54d6772e08|watches_gifts   |3.0               |110.0 |0.0          |Medium  |\n",
      "|25.0     |4.0     |a92930c327948861c015c919a0bcb4a8|watches_gifts   |4.0               |78.0  |7.81         |Fast    |\n",
      "|24.0     |3.54    |a92930c327948861c015c919a0bcb4a8|watches_gifts   |4.0               |78.0  |18.65        |Medium  |\n",
      "|23.0     |4.43    |7a10781637204d8d10485c71a6108a2e|watches_gifts   |1.0               |199.0 |0.0          |Medium  |\n",
      "|22.0     |4.14    |7a10781637204d8d10485c71a6108a2e|watches_gifts   |1.0               |219.9 |18.79        |Medium  |\n",
      "|17.0     |4.41    |2136c70bbe723d338fab53da3c03e6dc|watches_gifts   |3.0               |29.0  |7.78         |Fast    |\n",
      "|16.0     |4.38    |2136c70bbe723d338fab53da3c03e6dc|watches_gifts   |3.0               |29.0  |14.1         |Medium  |\n",
      "|16.0     |4.53    |a62e25e09e05e6faf31d90c6ec1aa3d1|watches_gifts   |2.0               |108.0 |16.52        |Medium  |\n",
      "|16.0     |4.25    |e0d64dcfaa3b6db5c54ca298ae101d05|watches_gifts   |2.0               |151.9 |17.97        |Medium  |\n",
      "|15.0     |4.47    |53b36df67ebb7c41585e8d54d6772e08|watches_gifts   |3.0               |106.9 |0.0          |Medium  |\n",
      "|14.0     |3.57    |c5b72065154ec27c2d1ed8a654c3348f|watches_gifts   |1.0               |190.83|16.09        |Medium  |\n",
      "|13.0     |4.31    |a92930c327948861c015c919a0bcb4a8|watches_gifts   |4.0               |78.0  |15.65        |Medium  |\n",
      "|12.0     |4.5     |a62e25e09e05e6faf31d90c6ec1aa3d1|watches_gifts   |2.0               |105.0 |23.89        |Medium  |\n",
      "|12.0     |4.5     |e0d64dcfaa3b6db5c54ca298ae101d05|watches_gifts   |2.0               |179.9 |16.01        |Medium  |\n",
      "|11.0     |4.45    |461f43be3bdf8844e65b62d9ac2c7a5a|watches_gifts   |3.0               |146.0 |15.77        |Medium  |\n",
      "|11.0     |4.36    |53b36df67ebb7c41585e8d54d6772e08|watches_gifts   |3.0               |119.0 |18.93        |Medium  |\n",
      "|11.0     |3.18    |a62e25e09e05e6faf31d90c6ec1aa3d1|watches_gifts   |2.0               |105.0 |9.27         |Medium  |\n",
      "|11.0     |4.45    |d285360f29ac7fd97640bf0baef03de0|watches_gifts   |4.0               |348.8 |16.19        |Medium  |\n",
      "+---------+--------+--------------------------------+----------------+------------------+------+-------------+--------+\n",
      "only showing top 20 rows\n",
      "\n"
     ]
    }
   ],
   "source": [
    "df_watches_gifts = res.filter(\"category_name_en = 'watches_gifts'\")\n",
    "print(df_watches_gifts.count())\n",
    "df_watches_gifts.show(truncate=0)"
   ]
  },
  {
   "cell_type": "code",
   "execution_count": 25,
   "id": "utility-milan",
   "metadata": {},
   "outputs": [
    {
     "data": {
      "text/plain": [
       "<AxesSubplot:>"
      ]
     },
     "execution_count": 25,
     "metadata": {},
     "output_type": "execute_result"
    },
    {
     "data": {
      "image/png": "[encoded data removed]",
      "text/plain": [
       "<Figure size 432x288 with 1 Axes>"
      ]
     },
     "metadata": {
      "needs_background": "light"
     },
     "output_type": "display_data"
    }
   ],
   "source": [
    "# print(df_watches_gifts.toPandas())\n",
    "pnddf_watches = df_watches_gifts.toPandas()\n",
    "#pnddf_watches.index       # nb of records\n",
    "#pnddf_watches.columns     # list of columns\n",
    "#pnddf_watches[['prdVendus', 'avgScore', 'product_id']]\n",
    "\n",
    "df = pd.DataFrame(pnddf_watches.loc[0:4, ['prdVendus', 'avgScore', 'product_id']],\\\n",
    "                  columns=['prdVendus', 'avgScore', 'product_id'])\n",
    "df.plot.bar(stacked=True)"
   ]
  },
  {
   "cell_type": "code",
   "execution_count": 26,
   "id": "religious-ranking",
   "metadata": {},
   "outputs": [
    {
     "name": "stdout",
     "output_type": "stream",
     "text": [
      "+------------+--------------------+\n",
      "|payment_type|            TotPaymt|\n",
      "+------------+--------------------+\n",
      "|      boleto|  2869361.2699999996|\n",
      "| not_defined|                 0.0|\n",
      "| credit_card|1.2542084189999508E7|\n",
      "|     voucher|  379436.87000000046|\n",
      "|  debit_card|  217989.79000000018|\n",
      "+------------+--------------------+\n",
      "\n"
     ]
    },
    {
     "data": {
      "text/plain": [
       "<AxesSubplot:>"
      ]
     },
     "execution_count": 26,
     "metadata": {},
     "output_type": "execute_result"
    },
    {
     "data": {
      "image/png": "[encoded data removed]",
      "text/plain": [
       "<Figure size 432x288 with 1 Axes>"
      ]
     },
     "metadata": {
      "needs_background": "light"
     },
     "output_type": "display_data"
    }
   ],
   "source": [
    "TotalPerpymtType = df_payments.groupBy(\"payment_type\").sum(\"payment_value\").withColumnRenamed(\"sum(payment_value)\",\"TotPaymt\")\n",
    "TotalPerpymtType.show()\n",
    "\n",
    "TotalPerpymtType.toPandas().plot(kind=\"barh\", legend=True)"
   ]
  },
  {
   "cell_type": "code",
   "execution_count": 27,
   "id": "growing-boating",
   "metadata": {},
   "outputs": [
    {
     "ename": "AnalysisException",
     "evalue": "cannot resolve '`sum(payment_value)`' given input columns: [TotPaymt, payment_type];;\n'Project ['sum(payment_value)]\n+- Project [payment_type#78, sum(payment_value)#718 AS TotPaymt#721]\n   +- Aggregate [payment_type#78], [payment_type#78, sum(payment_value#80) AS sum(payment_value)#718]\n      +- Relation[order_id#76,payment_sequential#77,payment_type#78,payment_installments#79,payment_value#80] csv\n",
     "output_type": "error",
     "traceback": [
      "\u001b[0;31m---------------------------------------------------------------------------\u001b[0m",
      "\u001b[0;31mAnalysisException\u001b[0m                         Traceback (most recent call last)",
      "\u001b[0;32m<ipython-input-27-86c66dfc235a>\u001b[0m in \u001b[0;36m<module>\u001b[0;34m\u001b[0m\n\u001b[1;32m      1\u001b[0m \u001b[0mx\u001b[0m \u001b[0;34m=\u001b[0m \u001b[0mTotalPerpymtType\u001b[0m\u001b[0;34m.\u001b[0m\u001b[0mselect\u001b[0m\u001b[0;34m(\u001b[0m\u001b[0;34m\"payment_type\"\u001b[0m\u001b[0;34m)\u001b[0m\u001b[0;34m.\u001b[0m\u001b[0mtoPandas\u001b[0m\u001b[0;34m(\u001b[0m\u001b[0;34m)\u001b[0m\u001b[0;34m.\u001b[0m\u001b[0mto_numpy\u001b[0m\u001b[0;34m\u001b[0m\u001b[0;34m\u001b[0m\u001b[0m\n\u001b[0;32m----> 2\u001b[0;31m \u001b[0my\u001b[0m \u001b[0;34m=\u001b[0m \u001b[0mTotalPerpymtType\u001b[0m\u001b[0;34m.\u001b[0m\u001b[0mselect\u001b[0m\u001b[0;34m(\u001b[0m\u001b[0;34m\"sum(payment_value)\"\u001b[0m\u001b[0;34m)\u001b[0m\u001b[0;34m.\u001b[0m\u001b[0mtoPandas\u001b[0m\u001b[0;34m(\u001b[0m\u001b[0;34m)\u001b[0m\u001b[0;34m.\u001b[0m\u001b[0mto_numpy\u001b[0m\u001b[0;34m\u001b[0m\u001b[0;34m\u001b[0m\u001b[0m\n\u001b[0m\u001b[1;32m      3\u001b[0m \u001b[0;31m#x = TotalPerpymtType[\"payment_type\"].to_numpy()\u001b[0m\u001b[0;34m\u001b[0m\u001b[0;34m\u001b[0m\u001b[0;34m\u001b[0m\u001b[0m\n\u001b[1;32m      4\u001b[0m \u001b[0;31m# select(\"payment_type\").toPandas().values\u001b[0m\u001b[0;34m\u001b[0m\u001b[0;34m\u001b[0m\u001b[0;34m\u001b[0m\u001b[0m\n\u001b[1;32m      5\u001b[0m \u001b[0;31m#y = TotalPerpymtType.select(\"sum(payment_value)\")\u001b[0m\u001b[0;34m\u001b[0m\u001b[0;34m\u001b[0m\u001b[0;34m\u001b[0m\u001b[0m\n",
      "\u001b[0;32m/usr/local/spark/python/pyspark/sql/dataframe.py\u001b[0m in \u001b[0;36mselect\u001b[0;34m(self, *cols)\u001b[0m\n\u001b[1;32m   1419\u001b[0m         \u001b[0;34m[\u001b[0m\u001b[0mRow\u001b[0m\u001b[0;34m(\u001b[0m\u001b[0mname\u001b[0m\u001b[0;34m=\u001b[0m\u001b[0;34mu'Alice'\u001b[0m\u001b[0;34m,\u001b[0m \u001b[0mage\u001b[0m\u001b[0;34m=\u001b[0m\u001b[0;36m12\u001b[0m\u001b[0;34m)\u001b[0m\u001b[0;34m,\u001b[0m \u001b[0mRow\u001b[0m\u001b[0;34m(\u001b[0m\u001b[0mname\u001b[0m\u001b[0;34m=\u001b[0m\u001b[0;34mu'Bob'\u001b[0m\u001b[0;34m,\u001b[0m \u001b[0mage\u001b[0m\u001b[0;34m=\u001b[0m\u001b[0;36m15\u001b[0m\u001b[0;34m)\u001b[0m\u001b[0;34m]\u001b[0m\u001b[0;34m\u001b[0m\u001b[0;34m\u001b[0m\u001b[0m\n\u001b[1;32m   1420\u001b[0m         \"\"\"\n\u001b[0;32m-> 1421\u001b[0;31m         \u001b[0mjdf\u001b[0m \u001b[0;34m=\u001b[0m \u001b[0mself\u001b[0m\u001b[0;34m.\u001b[0m\u001b[0m_jdf\u001b[0m\u001b[0;34m.\u001b[0m\u001b[0mselect\u001b[0m\u001b[0;34m(\u001b[0m\u001b[0mself\u001b[0m\u001b[0;34m.\u001b[0m\u001b[0m_jcols\u001b[0m\u001b[0;34m(\u001b[0m\u001b[0;34m*\u001b[0m\u001b[0mcols\u001b[0m\u001b[0;34m)\u001b[0m\u001b[0;34m)\u001b[0m\u001b[0;34m\u001b[0m\u001b[0;34m\u001b[0m\u001b[0m\n\u001b[0m\u001b[1;32m   1422\u001b[0m         \u001b[0;32mreturn\u001b[0m \u001b[0mDataFrame\u001b[0m\u001b[0;34m(\u001b[0m\u001b[0mjdf\u001b[0m\u001b[0;34m,\u001b[0m \u001b[0mself\u001b[0m\u001b[0;34m.\u001b[0m\u001b[0msql_ctx\u001b[0m\u001b[0;34m)\u001b[0m\u001b[0;34m\u001b[0m\u001b[0;34m\u001b[0m\u001b[0m\n\u001b[1;32m   1423\u001b[0m \u001b[0;34m\u001b[0m\u001b[0m\n",
      "\u001b[0;32m/usr/local/spark/python/lib/py4j-0.10.9-src.zip/py4j/java_gateway.py\u001b[0m in \u001b[0;36m__call__\u001b[0;34m(self, *args)\u001b[0m\n\u001b[1;32m   1302\u001b[0m \u001b[0;34m\u001b[0m\u001b[0m\n\u001b[1;32m   1303\u001b[0m         \u001b[0manswer\u001b[0m \u001b[0;34m=\u001b[0m \u001b[0mself\u001b[0m\u001b[0;34m.\u001b[0m\u001b[0mgateway_client\u001b[0m\u001b[0;34m.\u001b[0m\u001b[0msend_command\u001b[0m\u001b[0;34m(\u001b[0m\u001b[0mcommand\u001b[0m\u001b[0;34m)\u001b[0m\u001b[0;34m\u001b[0m\u001b[0;34m\u001b[0m\u001b[0m\n\u001b[0;32m-> 1304\u001b[0;31m         return_value = get_return_value(\n\u001b[0m\u001b[1;32m   1305\u001b[0m             answer, self.gateway_client, self.target_id, self.name)\n\u001b[1;32m   1306\u001b[0m \u001b[0;34m\u001b[0m\u001b[0m\n",
      "\u001b[0;32m/usr/local/spark/python/pyspark/sql/utils.py\u001b[0m in \u001b[0;36mdeco\u001b[0;34m(*a, **kw)\u001b[0m\n\u001b[1;32m    132\u001b[0m                 \u001b[0;31m# Hide where the exception came from that shows a non-Pythonic\u001b[0m\u001b[0;34m\u001b[0m\u001b[0;34m\u001b[0m\u001b[0;34m\u001b[0m\u001b[0m\n\u001b[1;32m    133\u001b[0m                 \u001b[0;31m# JVM exception message.\u001b[0m\u001b[0;34m\u001b[0m\u001b[0;34m\u001b[0m\u001b[0;34m\u001b[0m\u001b[0m\n\u001b[0;32m--> 134\u001b[0;31m                 \u001b[0mraise_from\u001b[0m\u001b[0;34m(\u001b[0m\u001b[0mconverted\u001b[0m\u001b[0;34m)\u001b[0m\u001b[0;34m\u001b[0m\u001b[0;34m\u001b[0m\u001b[0m\n\u001b[0m\u001b[1;32m    135\u001b[0m             \u001b[0;32melse\u001b[0m\u001b[0;34m:\u001b[0m\u001b[0;34m\u001b[0m\u001b[0;34m\u001b[0m\u001b[0m\n\u001b[1;32m    136\u001b[0m                 \u001b[0;32mraise\u001b[0m\u001b[0;34m\u001b[0m\u001b[0;34m\u001b[0m\u001b[0m\n",
      "\u001b[0;32m/usr/local/spark/python/pyspark/sql/utils.py\u001b[0m in \u001b[0;36mraise_from\u001b[0;34m(e)\u001b[0m\n",
      "\u001b[0;31mAnalysisException\u001b[0m: cannot resolve '`sum(payment_value)`' given input columns: [TotPaymt, payment_type];;\n'Project ['sum(payment_value)]\n+- Project [payment_type#78, sum(payment_value)#718 AS TotPaymt#721]\n   +- Aggregate [payment_type#78], [payment_type#78, sum(payment_value#80) AS sum(payment_value)#718]\n      +- Relation[order_id#76,payment_sequential#77,payment_type#78,payment_installments#79,payment_value#80] csv\n"
     ]
    }
   ],
   "source": [
    "x = TotalPerpymtType.select(\"payment_type\").toPandas().to_numpy\n",
    "y = TotalPerpymtType.select(\"sum(payment_value)\").toPandas().to_numpy\n",
    "#x = TotalPerpymtType[\"payment_type\"].to_numpy()\n",
    "# select(\"payment_type\").toPandas().values\n",
    "#y = TotalPerpymtType.select(\"sum(payment_value)\")\n",
    "#plt.bar(x,y)\n",
    "\n",
    "\n"
   ]
  },
  {
   "cell_type": "markdown",
   "id": "neither-blind",
   "metadata": {},
   "source": [
    "## Dimensionality reduction\n",
    "***\n",
    "Removing null or redundant or irrelevant data\n",
    "1 - Percent missing value\n",
    "    Nb of records with missing values/ Total nb of records\n",
    "2 - Amount of variation\n",
    "    Drop data with low variation, use standard deviation\n",
    "3 - Pairwise correlation\n",
    "4 - Multicolinearity\n",
    "5 - Principal Component analysis\n",
    "6 - Cluster Analysis\n",
    "7 - Correlation with the target\n",
    "8 - Forward selection\n",
    "9 - Backward Elimination (RFE)\n",
    "10 - Stepwise selection\n",
    "11 - LASSO\n",
    "12 - Tree-based selection"
   ]
  },
  {
   "cell_type": "markdown",
   "id": "after-float",
   "metadata": {},
   "source": [
    "## Analysing Data\n",
    "***\n",
    "1. Comparing features with the label 1 as \"Purchased\" or 0 as \"Not Purchase\" "
   ]
  },
  {
   "cell_type": "code",
   "execution_count": null,
   "id": "stock-dakota",
   "metadata": {},
   "outputs": [],
   "source": [
    "df_payments.agg({'payment_value':'max'}).show()"
   ]
  },
  {
   "cell_type": "code",
   "execution_count": null,
   "id": "according-powell",
   "metadata": {},
   "outputs": [],
   "source": []
  },
  {
   "cell_type": "code",
   "execution_count": null,
   "id": "universal-kidney",
   "metadata": {},
   "outputs": [],
   "source": [
    "group_by_paymttype = df_payments.groupBy(\"payment_type\")\n",
    "group_by_paymttype.agg({'payment_value':'sum'}).show()"
   ]
  },
  {
   "cell_type": "code",
   "execution_count": null,
   "id": "regional-soundtrack",
   "metadata": {},
   "outputs": [],
   "source": [
    "sales_stddev = df_payments.select(stddev('payment_value').alias('stddev_sales'))"
   ]
  },
  {
   "cell_type": "code",
   "execution_count": null,
   "id": "convenient-effectiveness",
   "metadata": {},
   "outputs": [],
   "source": [
    "sales_customer = df_payments.select(df_payments['payment_type'], df_payments['payment_value'].alias('sales'))\\\n",
    ".orderBy(df_payments['payment_value'].desc()).show()"
   ]
  },
  {
   "cell_type": "code",
   "execution_count": null,
   "id": "exclusive-determination",
   "metadata": {},
   "outputs": [],
   "source": [
    "sales_stddev.select(format_number('stddev_sales',2).alias('standard deviation sales')).show()"
   ]
  },
  {
   "cell_type": "code",
   "execution_count": null,
   "id": "adapted-verse",
   "metadata": {},
   "outputs": [],
   "source": [
    "sales_stddev.select(format_number('stddev_sales',2).alias('stdd')).show()"
   ]
  },
  {
   "cell_type": "code",
   "execution_count": null,
   "id": "indoor-condition",
   "metadata": {},
   "outputs": [],
   "source": [
    "# df_customers.select(\"customer_id\").show()"
   ]
  },
  {
   "cell_type": "code",
   "execution_count": null,
   "id": "accessible-domestic",
   "metadata": {},
   "outputs": [],
   "source": []
  },
  {
   "cell_type": "code",
   "execution_count": null,
   "id": "optional-crash",
   "metadata": {},
   "outputs": [],
   "source": [
    "df_customers.createOrReplaceTempView(\"clients\")"
   ]
  },
  {
   "cell_type": "code",
   "execution_count": null,
   "id": "organized-seller",
   "metadata": {},
   "outputs": [],
   "source": [
    "res = df_customers.filter(\"customer_state in ('SP','SC','MG')\").select('customer_id','customer_city','customer_state').collect()"
   ]
  },
  {
   "cell_type": "code",
   "execution_count": null,
   "id": "significant-appraisal",
   "metadata": {},
   "outputs": [],
   "source": [
    "row = res [0]"
   ]
  },
  {
   "cell_type": "code",
   "execution_count": null,
   "id": "vulnerable-local",
   "metadata": {},
   "outputs": [],
   "source": [
    "row.asDict()[\"customer_city\"]"
   ]
  },
  {
   "cell_type": "code",
   "execution_count": null,
   "id": "raising-arlington",
   "metadata": {},
   "outputs": [],
   "source": [
    "res = spark.sql(\"SELECT * from clients where customer_city <> 'sao paulo'\")"
   ]
  },
  {
   "cell_type": "code",
   "execution_count": null,
   "id": "cloudy-opening",
   "metadata": {},
   "outputs": [],
   "source": [
    "res.show()"
   ]
  },
  {
   "cell_type": "code",
   "execution_count": null,
   "id": "aging-enterprise",
   "metadata": {},
   "outputs": [],
   "source": []
  },
  {
   "cell_type": "code",
   "execution_count": null,
   "id": "english-glenn",
   "metadata": {},
   "outputs": [],
   "source": []
  },
  {
   "cell_type": "code",
   "execution_count": null,
   "id": "continuous-blogger",
   "metadata": {},
   "outputs": [],
   "source": []
  }
 ],
 "metadata": {
  "kernelspec": {
   "display_name": "Python 3",
   "language": "python",
   "name": "python3"
  },
  "language_info": {
   "codemirror_mode": {
    "name": "ipython",
    "version": 3
   },
   "file_extension": ".py",
   "mimetype": "text/x-python",
   "name": "python",
   "nbconvert_exporter": "python",
   "pygments_lexer": "ipython3",
   "version": "3.8.8"
  }
 },
 "nbformat": 4,
 "nbformat_minor": 5
}
