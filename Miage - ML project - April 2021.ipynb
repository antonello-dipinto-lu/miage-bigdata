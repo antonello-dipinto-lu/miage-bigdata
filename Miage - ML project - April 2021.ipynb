{
 "cells": [
  {
   "cell_type": "markdown",
   "id": "typical-nicaragua",
   "metadata": {},
   "source": [
    "# Devoir Big Data & Dataminig\n",
    "### Professeurs: Mr Perrin & Mr Tabbone\n",
    "A rendre le 15 Avril 2021\n",
    "\n",
    "## But \n",
    "Le but de ce projet est de déterminer si un produit aura du succès ou non selon ses caractéristiques.\n",
    "Nous nous situons donc dans le cadre d'un apprentissage supervisé. En effet, le but de ce devoir consiste à effectuer une prédiction sur le succès ou non (label) d'un produit en fonction de ses caractéristiques (features)\n",
    "\n",
    "<img src=\"img/machineLearning.jpeg\"/>"
   ]
  },
  {
   "cell_type": "code",
   "execution_count": 1,
   "id": "smoking-setting",
   "metadata": {},
   "outputs": [],
   "source": [
    "from pyspark.sql import SparkSession"
   ]
  },
  {
   "cell_type": "code",
   "execution_count": 2,
   "id": "helpful-algebra",
   "metadata": {},
   "outputs": [],
   "source": [
    "import numpy as np\n",
    "import pandas as pd\n",
    "from pandas import Series, DataFrame\n",
    "import matplotlib.pyplot as plt"
   ]
  },
  {
   "cell_type": "code",
   "execution_count": 3,
   "id": "surprised-parameter",
   "metadata": {},
   "outputs": [],
   "source": [
    "from pyspark.sql.types import (StructField, StringType, \n",
    "                               IntegerType, TimestampType, DateType,\n",
    "                               DoubleType, StructType)"
   ]
  },
  {
   "cell_type": "code",
   "execution_count": 4,
   "id": "convenient-finland",
   "metadata": {},
   "outputs": [],
   "source": [
    "from pyspark.sql.functions import countDistinct, avg, stddev, desc"
   ]
  },
  {
   "cell_type": "code",
   "execution_count": 5,
   "id": "quarterly-factory",
   "metadata": {},
   "outputs": [],
   "source": [
    "from pyspark.sql.functions import format_number"
   ]
  },
  {
   "cell_type": "code",
   "execution_count": null,
   "id": "standing-bolivia",
   "metadata": {},
   "outputs": [],
   "source": []
  },
  {
   "cell_type": "code",
   "execution_count": 6,
   "id": "systematic-search",
   "metadata": {},
   "outputs": [],
   "source": [
    "import os"
   ]
  },
  {
   "cell_type": "code",
   "execution_count": 7,
   "id": "alone-warner",
   "metadata": {},
   "outputs": [],
   "source": [
    "# os.path.abspath(os.getcwd())"
   ]
  },
  {
   "cell_type": "code",
   "execution_count": 8,
   "id": "strategic-tolerance",
   "metadata": {},
   "outputs": [],
   "source": [
    "spark = SparkSession.builder.appName('MiageML').getOrCreate()"
   ]
  },
  {
   "cell_type": "markdown",
   "id": "narrow-belief",
   "metadata": {},
   "source": [
    "## Phase I - Collecting Data\n",
    "***\n",
    "<img src=\"img/dataCollection.jpg\"/>\n",
    "\n",
    "1. Fetch data from csv files\n",
    "2. Type data\n"
   ]
  },
  {
   "cell_type": "code",
   "execution_count": 43,
   "id": "trying-moscow",
   "metadata": {},
   "outputs": [],
   "source": [
    "## Customers\n",
    "schema_customer = [\n",
    "    StructField(\"customer_id\", StringType(), True),\n",
    "    StructField(\"customer_unique_id\", StringType(), True),\n",
    "    StructField(\"customer_zip_code_prefix\", StringType(), True),\n",
    "    StructField(\"customer_city\", StringType(), True),\n",
    "    StructField(\"customer_state\", StringType(), True)\n",
    "]\n",
    "customer_struct = StructType(fields=schema_customer)\n",
    "\n",
    "## Orders\n",
    "schema_order = [\n",
    "    StructField(\"order_id\", StringType(), True),\n",
    "    StructField(\"customer_id\", StringType(), True),\n",
    "    StructField(\"status\", StringType(), True),\n",
    "    StructField(\"purchase_at\", StringType(), True),\n",
    "    StructField(\"approved_at\", StringType(), True),\n",
    "    StructField(\"delvd_carrier_dt\", StringType(), True),\n",
    "    StructField(\"delvd_customer_dt\", StringType(), True),\n",
    "    StructField(\"estimated_delivery_dt\", StringType(), True),        \n",
    "]\n",
    "\n",
    "order_struct = StructType(fields=schema_order)\n",
    "\n",
    "## Order items\n",
    "schema_order_items = [\n",
    "    StructField(\"order_id\", StringType(), True),\n",
    "    StructField(\"order_item_id\", IntegerType(), True),\n",
    "    StructField(\"product_id\", StringType(), True),\n",
    "    StructField(\"seller_id\", StringType(), True),\n",
    "    StructField(\"shipping_limit_date\", StringType(), True),\n",
    "    StructField(\"price\", DoubleType(), True),\n",
    "    StructField(\"freight_value\", DoubleType(), True),\n",
    "  ]\n",
    "order_items_struct = StructType(fields=schema_order_items)\n",
    "\n",
    "## Product\n",
    "## \"product_id\",\"product_category_name\",\"product_name_lenght\",\"product_description_lenght\",\"product_photos_qty\",\n",
    "## \"product_weight_g\",\"product_length_cm\",\"product_height_cm\",\"product_width_cm\"\n",
    "schema_products = [\n",
    "    StructField(\"product_id\", StringType(), True),\n",
    "    StructField(\"product_category_name\", StringType(), True),\n",
    "    StructField(\"product_name_lenght\", IntegerType(), True),\n",
    "    StructField(\"product_description_lenght\", IntegerType(), True),\n",
    "    StructField(\"product_photos_qty\", DoubleType(), True),\n",
    "    StructField(\"product_weight_g\", DoubleType(), True),\n",
    "    StructField(\"product_length_cm\", DoubleType(), True),\n",
    "    StructField(\"product_height_cm\", DoubleType(), True),\n",
    "    StructField(\"product_width_cm\", DoubleType(), True)\n",
    "  ]\n",
    "products_struct = StructType(fields=schema_products)\n",
    "\n",
    "\n",
    "## Order reviews\n",
    "## \"review_id\",\"order_id\",\"review_score\",\"review_comment_title\",\"review_comment_message\",\"review_creation_date\",\n",
    "## \"review_answer_timestamp\"\n",
    "schema_order_reviews = [\n",
    "    StructField(\"review_id\", StringType(), True),\n",
    "    StructField(\"order_id\", StringType(), True),\n",
    "    StructField(\"review_score\", IntegerType(), True),\n",
    "    StructField(\"review_comment_title\", StringType(), True),\n",
    "    StructField(\"review_comment_message\", StringType(), True),\n",
    "    StructField(\"review_creation_date\", StringType(), True),\n",
    "    StructField(\"review_answer_timestamp\", StringType(), True)\n",
    "  ]\n",
    "order_reviews_struct = StructType(fields=schema_order_reviews)\n",
    "\n",
    "# Payments\n",
    "schema_payment = [\n",
    "        StructField(\"order_id\", StringType(), True),\n",
    "        StructField(\"payment_sequential\", IntegerType(), True),\n",
    "        StructField(\"payment_type\", StringType(), True),\n",
    "        StructField(\"payment_installments\", IntegerType(), True),\n",
    "        StructField(\"payment_value\", DoubleType(), True)\n",
    "    ]\n",
    "payment_struct = StructType(fields=schema_payment)\n",
    "\n",
    "# Sellers\n",
    "schema_seller = [\n",
    "        StructField(\"seller_id\", StringType(), True),\n",
    "        StructField(\"seller_zip_code_prefix\", IntegerType(), True),\n",
    "        StructField(\"seller_city\", StringType(), True),\n",
    "        StructField(\"seller_state\", IntegerType(), True)\n",
    "    ]\n",
    "seller_struct = StructType(fields=schema_seller)\n",
    "\n",
    "\n",
    "# Geolocalisation\n",
    "schema_geo = [\n",
    "        StructField(\"geolocation_zip_code_prefix\", StringType(), True),\n",
    "        StructField(\"geolocation_lat\", DoubleType(), True),\n",
    "        StructField(\"geolocation_lng\", DoubleType(), True),\n",
    "        StructField(\"geolocation_city\", StringType(), True),\n",
    "        StructField(\"geolocation_state\", StringType(), True)\n",
    "    ]\n",
    "geo_struct = StructType(fields=schema_geo)"
   ]
  },
  {
   "cell_type": "code",
   "execution_count": 1,
   "id": "future-stock",
   "metadata": {},
   "outputs": [
    {
     "ename": "NameError",
     "evalue": "name 'spark' is not defined",
     "output_type": "error",
     "traceback": [
      "\u001b[0;31m\u001b[0m",
      "\u001b[0;31mNameError\u001b[0mTraceback (most recent call last)",
      "\u001b[0;32m<ipython-input-1-aaac18453bee>\u001b[0m in \u001b[0;36m<module>\u001b[0;34m\u001b[0m\n\u001b[0;32m----> 1\u001b[0;31m \u001b[0mdf_customers\u001b[0m \u001b[0;34m=\u001b[0m \u001b[0mspark\u001b[0m\u001b[0;34m.\u001b[0m\u001b[0mread\u001b[0m\u001b[0;34m.\u001b[0m\u001b[0moption\u001b[0m\u001b[0;34m(\u001b[0m\u001b[0;34m\"header\"\u001b[0m\u001b[0;34m,\u001b[0m \u001b[0;32mTrue\u001b[0m\u001b[0;34m)\u001b[0m\u001b[0;31m\\\u001b[0m\u001b[0;34m\u001b[0m\u001b[0;34m\u001b[0m\u001b[0m\n\u001b[0m\u001b[1;32m      2\u001b[0m \u001b[0;34m.\u001b[0m\u001b[0mschema\u001b[0m\u001b[0;34m(\u001b[0m\u001b[0mcustomer_struct\u001b[0m\u001b[0;34m)\u001b[0m\u001b[0;31m\\\u001b[0m\u001b[0;34m\u001b[0m\u001b[0;34m\u001b[0m\u001b[0m\n\u001b[1;32m      3\u001b[0m \u001b[0;34m.\u001b[0m\u001b[0mcsv\u001b[0m\u001b[0;34m(\u001b[0m\u001b[0;34m\"data/olist_customers_dataset.csv\"\u001b[0m\u001b[0;34m)\u001b[0m\u001b[0;34m\u001b[0m\u001b[0;34m\u001b[0m\u001b[0m\n\u001b[1;32m      4\u001b[0m \u001b[0;34m\u001b[0m\u001b[0m\n\u001b[1;32m      5\u001b[0m \u001b[0mdf_orders\u001b[0m \u001b[0;34m=\u001b[0m \u001b[0mspark\u001b[0m\u001b[0;34m.\u001b[0m\u001b[0mread\u001b[0m\u001b[0;34m.\u001b[0m\u001b[0moption\u001b[0m\u001b[0;34m(\u001b[0m\u001b[0;34m\"header\"\u001b[0m\u001b[0;34m,\u001b[0m \u001b[0;32mTrue\u001b[0m\u001b[0;34m)\u001b[0m\u001b[0;31m\\\u001b[0m\u001b[0;34m\u001b[0m\u001b[0;34m\u001b[0m\u001b[0m\n",
      "\u001b[0;31mNameError\u001b[0m: name 'spark' is not defined"
     ]
    }
   ],
   "source": [
    "df_customers = spark.read\\\n",
    ".option(\"header\", True)\\\n",
    ".schema(customer_struct)\\\n",
    ".csv(\"data/olist_customers_dataset.csv\")\n",
    "\n",
    "df_orders = spark.read.option(\"header\", True)\\\n",
    ".option(\"inferSchema\", False)\\\n",
    ".schema(order_struct)\\\n",
    ".csv(\"data/olist_orders_dataset.csv\")\n",
    "\n",
    "df_order_items = spark.read.option(\"header\", True)\\\n",
    ".option(\"inferSchema\", False)\\\n",
    ".schema(order_items_struct)\\\n",
    ".csv(\"data/olist_order_items_dataset.csv\")\n",
    "\n",
    "df_products = spark.read.option(\"header\", True)\\\n",
    ".option(\"inferSchema\", False)\\\n",
    ".schema(products_struct)\\\n",
    ".csv(\"data/olist_products_dataset.csv\")\n",
    "\n",
    "df_order_reviews = spark.read.option(\"header\", True)\\\n",
    ".option(\"inferSchema\", False)\\\n",
    ".schema(order_reviews_struct)\\\n",
    ".csv(\"data/olist_order_reviews_dataset.csv\")\n",
    "\n",
    "df_payments = spark.read.option(\"header\", True)\\\n",
    ".option(\"inferSchema\", False)\\\n",
    ".schema(payment_struct)\\\n",
    ".csv(\"data/olist_order_payments_dataset.csv\")\n",
    "\n",
    "df_sellers = spark.read.option(\"header\", True)\\\n",
    ".option(\"inferSchema\", False)\\\n",
    ".schema(seller_struct)\\\n",
    ".csv(\"data/olist_sellers_dataset.csv\")\n",
    "\n",
    "df_geo = spark.read.option(\"header\", True)\\\n",
    ".option(\"inferSchema\", False)\\\n",
    ".schema(geo_struct)\\\n",
    ".csv(\"data/olist_geolocation_dataset.csv\")"
   ]
  },
  {
   "cell_type": "markdown",
   "id": "departmental-warren",
   "metadata": {},
   "source": [
    "## Cleanning Data\n",
    "***\n",
    "\n",
    "<img src=\"img/dataCleaning.jpg\"/>\n",
    "\n",
    "1. Orders<BR>\n",
    "> KEEP  : \"order_id\",\"customer_id\", \"status\",\"purchase_at\" <BR>\n",
    "> REMOVE: \"approved_at\",\"delvd_carrier_dt\",\"delvd_customer_dt\",\"estimated_delivery_dt\"\n",
    "\n",
    "2. Order items<BR>\n",
    "> KEEP  : \"order_id\",\"product_id\",\"seller_id\",\"price\",\"freight_value\" <BR>\n",
    "> REMOVE: \"order_item_id\",\"shipping_limit_date\"\n",
    "    \n",
    "3. Order reviews<BR>\n",
    "> KEEP  : \"order_id\",\"review_score\"<BR>\n",
    "> REMOVE: \"review_id\",\"review_comment_title\",\"review_comment_message\",\"review_creation_date\",\"review_answer_timestamp\"\n",
    "    \n",
    "4. Customers<BR>\n",
    "> KEEP  : \"customer_id\", \"customer_zip_code_prefix\",\"customer_city\",\"customer_state\"<BR>\n",
    "> REMOVE: \"customer_unique_id\"\n",
    "    \n",
    "4. Payments<BR>\n",
    "> KEEP  : \"order_id\",\"payment_type\",\"payment_value\"<BR>\n",
    "> REMOVE: \"payment_sequential\",\"payment_installments\"       "
   ]
  },
  {
   "cell_type": "code",
   "execution_count": 11,
   "id": "immune-dakota",
   "metadata": {},
   "outputs": [
    {
     "name": "stdout",
     "output_type": "stream",
     "text": [
      "+-----------+-----+\n",
      "|     status|count|\n",
      "+-----------+-----+\n",
      "|    shipped| 1107|\n",
      "|   canceled|  625|\n",
      "|   approved|    2|\n",
      "|   invoiced|  314|\n",
      "|    created|    5|\n",
      "|  delivered|96478|\n",
      "|unavailable|  609|\n",
      "| processing|  301|\n",
      "+-----------+-----+\n",
      "\n",
      "root\n",
      " |-- order_id: string (nullable = true)\n",
      " |-- customer_id: string (nullable = true)\n",
      " |-- status: string (nullable = true)\n",
      " |-- purchase_at: string (nullable = true)\n",
      "\n"
     ]
    }
   ],
   "source": [
    "# Orders\n",
    "df_orders.groupBy(\"status\").count().show()\n",
    "# df_order_items.printSchema()\n",
    "rv_order_col=[\"approved_at\",\"delvd_carrier_dt\",\"delvd_customer_dt\",\"estimated_delivery_dt\"]\n",
    "df_orders_light = df_orders.drop(*rv_order_col)\n",
    "df_orders_light.printSchema()"
   ]
  },
  {
   "cell_type": "code",
   "execution_count": 12,
   "id": "brutal-entrance",
   "metadata": {},
   "outputs": [
    {
     "name": "stdout",
     "output_type": "stream",
     "text": [
      "root\n",
      " |-- order_id: string (nullable = true)\n",
      " |-- product_id: string (nullable = true)\n",
      " |-- seller_id: string (nullable = true)\n",
      " |-- price: double (nullable = true)\n",
      " |-- freight_value: double (nullable = true)\n",
      "\n"
     ]
    }
   ],
   "source": [
    "# Order items\n",
    "rv_items_col=[\"order_item_id\",\"shipping_limit_date\"]\n",
    "df_orditems_light = df_order_items.drop(*rv_items_col)\n",
    "df_orditems_light.printSchema()"
   ]
  },
  {
   "cell_type": "code",
   "execution_count": 13,
   "id": "cardiac-living",
   "metadata": {},
   "outputs": [
    {
     "name": "stdout",
     "output_type": "stream",
     "text": [
      "+--------------------------+\n",
      "|count(DISTINCT product_id)|\n",
      "+--------------------------+\n",
      "|                     32951|\n",
      "+--------------------------+\n",
      "\n",
      "+--------------------+-----+\n",
      "|          product_id|count|\n",
      "+--------------------+-----+\n",
      "|aca2eb7d00ea1a7b8...|  527|\n",
      "|99a4788cb24856965...|  488|\n",
      "|422879e10f4668299...|  484|\n",
      "|389d119b48cf3043d...|  392|\n",
      "|368c6c730842d7801...|  388|\n",
      "|53759a2ecddad2bb8...|  373|\n",
      "|d1c427060a0f73f6b...|  343|\n",
      "|53b36df67ebb7c415...|  323|\n",
      "|154e7e31ebfa09220...|  281|\n",
      "|3dd2a17168ec895c7...|  274|\n",
      "|2b4609f8948be1887...|  260|\n",
      "|7c1bd920dbdf22470...|  231|\n",
      "|a62e25e09e05e6faf...|  226|\n",
      "|5a848e4ab52fd5445...|  197|\n",
      "|bb50f2e236e5eea01...|  195|\n",
      "|e0d64dcfaa3b6db5c...|  194|\n",
      "|e53e557d5a159f5aa...|  183|\n",
      "|42a2c92a0979a949c...|  183|\n",
      "|b532349fe46b38fbc...|  169|\n",
      "|35afc973633aaeb6b...|  165|\n",
      "+--------------------+-----+\n",
      "only showing top 20 rows\n",
      "\n"
     ]
    }
   ],
   "source": [
    "df_orditems_light.select(countDistinct(\"product_id\")).show()\n",
    "df_items_cnt = df_orditems_light.groupBy(\"product_id\").count()\n",
    "df_items_cnt.orderBy(df_items_cnt[\"count\"].desc()).show()"
   ]
  },
  {
   "cell_type": "code",
   "execution_count": 14,
   "id": "motivated-placement",
   "metadata": {},
   "outputs": [
    {
     "data": {
      "text/plain": [
       "32951"
      ]
     },
     "execution_count": 14,
     "metadata": {},
     "output_type": "execute_result"
    }
   ],
   "source": [
    "df_products.count()"
   ]
  },
  {
   "cell_type": "code",
   "execution_count": 15,
   "id": "raising-softball",
   "metadata": {},
   "outputs": [
    {
     "name": "stdout",
     "output_type": "stream",
     "text": [
      "root\n",
      " |-- order_id: string (nullable = true)\n",
      " |-- review_score: integer (nullable = true)\n",
      "\n"
     ]
    }
   ],
   "source": [
    "# Order reviews\n",
    "rv_reviews_col=[\"review_id\",\"review_comment_title\",\"review_comment_message\",\"review_creation_date\",\"review_answer_timestamp\"]\n",
    "df_ordreviews_light = df_order_reviews.drop(*rv_reviews_col)\n",
    "df_ordreviews_light.printSchema()"
   ]
  },
  {
   "cell_type": "code",
   "execution_count": 16,
   "id": "regulated-postage",
   "metadata": {},
   "outputs": [
    {
     "name": "stdout",
     "output_type": "stream",
     "text": [
      "root\n",
      " |-- customer_id: string (nullable = true)\n",
      " |-- customer_zip_code_prefix: string (nullable = true)\n",
      " |-- customer_city: string (nullable = true)\n",
      " |-- customer_state: string (nullable = true)\n",
      "\n"
     ]
    }
   ],
   "source": [
    "# Customers\n",
    "rv_customers_col=[\"customer_unique_id\"]\n",
    "df_customers_light = df_customers.drop(*rv_customers_col)\n",
    "df_customers_light.printSchema()"
   ]
  },
  {
   "cell_type": "code",
   "execution_count": 17,
   "id": "yellow-sustainability",
   "metadata": {},
   "outputs": [
    {
     "name": "stdout",
     "output_type": "stream",
     "text": [
      "root\n",
      " |-- order_id: string (nullable = true)\n",
      " |-- payment_type: string (nullable = true)\n",
      " |-- payment_value: double (nullable = true)\n",
      "\n"
     ]
    }
   ],
   "source": [
    "# Payments\n",
    "rv_payments_col=[\"payment_sequential\",\"payment_installments\"]\n",
    "df_pay_light = df_payments.drop(*rv_payments_col)\n",
    "df_pay_light.printSchema()"
   ]
  },
  {
   "cell_type": "code",
   "execution_count": 46,
   "id": "sorted-cameroon",
   "metadata": {},
   "outputs": [
    {
     "name": "stdout",
     "output_type": "stream",
     "text": [
      "root\n",
      " |-- seller_zip_code_prefix: integer (nullable = true)\n",
      " |-- seller_city: string (nullable = true)\n",
      " |-- seller_state: integer (nullable = true)\n",
      "\n"
     ]
    }
   ],
   "source": [
    "# Sellers\n",
    "#rv_sellers_col=[\"seller_id\"]\n",
    "#df_sellers_light = df_sellers.drop(*rv_sellers_col)\n",
    "#df_sellers_light.printSchema()"
   ]
  },
  {
   "cell_type": "code",
   "execution_count": 47,
   "id": "bored-privacy",
   "metadata": {},
   "outputs": [
    {
     "name": "stdout",
     "output_type": "stream",
     "text": [
      "root\n",
      " |-- geolocation_zip_code_prefix: string (nullable = true)\n",
      " |-- geolocation_city: string (nullable = true)\n",
      " |-- geolocation_state: string (nullable = true)\n",
      "\n"
     ]
    }
   ],
   "source": [
    "# Geolocation\n",
    "rv_geo_col=[\"geolocation_lat\",\"geolocation_lng\"]\n",
    "df_geo_light = df_geo.drop(*rv_geo_col)\n",
    "df_geo_light.printSchema()"
   ]
  },
  {
   "cell_type": "markdown",
   "id": "controlled-confidence",
   "metadata": {},
   "source": [
    "## JOINING Dataset\n",
    "***\n",
    "join(right: Dataset[_], joinExprs: Column, joinType: String): DataFrame\n",
    "join(right: Dataset[_]): DataFrame"
   ]
  },
  {
   "cell_type": "code",
   "execution_count": 57,
   "id": "numeric-figure",
   "metadata": {},
   "outputs": [
    {
     "name": "stdout",
     "output_type": "stream",
     "text": [
      "+---------+--------------+--------------------+-----+-------------+------------+------------+-------------+-------------+--------------+-----------+------------+----------------+-----------------+----------------+-----------------+\n",
      "|   status|   purchase_at|          product_id|price|freight_value|review_score|payment_type|payment_value|customer_city|customer_state|seller_city|seller_state|geolocation_city|geolocation_state|geolocation_city|geolocation_state|\n",
      "+---------+--------------+--------------------+-----+-------------+------------+------------+-------------+-------------+--------------+-----------+------------+----------------+-----------------+----------------+-----------------+\n",
      "|delivered|12.04.18 17:25|9d0bb30eed8018466...|19.95|         8.29|           5|      boleto|        28.24|    sao paulo|            SP|  sao paulo|        null|       sao paulo|               SP|       sao paulo|               SP|\n",
      "|delivered|12.04.18 17:25|9d0bb30eed8018466...|19.95|         8.29|           5|      boleto|        28.24|    sao paulo|            SP|  sao paulo|        null|       sao paulo|               SP|       sao paulo|               SP|\n",
      "|delivered|12.04.18 17:25|9d0bb30eed8018466...|19.95|         8.29|           5|      boleto|        28.24|    sao paulo|            SP|  sao paulo|        null|       sao paulo|               SP|       sao paulo|               SP|\n",
      "|delivered|12.04.18 17:25|9d0bb30eed8018466...|19.95|         8.29|           5|      boleto|        28.24|    sao paulo|            SP|  sao paulo|        null|       sao paulo|               SP|       sao paulo|               SP|\n",
      "|delivered|12.04.18 17:25|9d0bb30eed8018466...|19.95|         8.29|           5|      boleto|        28.24|    sao paulo|            SP|  sao paulo|        null|       sao paulo|               SP|       sao paulo|               SP|\n",
      "|delivered|12.04.18 17:25|9d0bb30eed8018466...|19.95|         8.29|           5|      boleto|        28.24|    sao paulo|            SP|  sao paulo|        null|       sao paulo|               SP|       são paulo|               SP|\n",
      "|delivered|12.04.18 17:25|9d0bb30eed8018466...|19.95|         8.29|           5|      boleto|        28.24|    sao paulo|            SP|  sao paulo|        null|       sao paulo|               SP|       sao paulo|               SP|\n",
      "|delivered|12.04.18 17:25|9d0bb30eed8018466...|19.95|         8.29|           5|      boleto|        28.24|    sao paulo|            SP|  sao paulo|        null|       sao paulo|               SP|       sao paulo|               SP|\n",
      "|delivered|12.04.18 17:25|9d0bb30eed8018466...|19.95|         8.29|           5|      boleto|        28.24|    sao paulo|            SP|  sao paulo|        null|       sao paulo|               SP|       sao paulo|               SP|\n",
      "|delivered|12.04.18 17:25|9d0bb30eed8018466...|19.95|         8.29|           5|      boleto|        28.24|    sao paulo|            SP|  sao paulo|        null|       sao paulo|               SP|       sao paulo|               SP|\n",
      "|delivered|12.04.18 17:25|9d0bb30eed8018466...|19.95|         8.29|           5|      boleto|        28.24|    sao paulo|            SP|  sao paulo|        null|       sao paulo|               SP|       sao paulo|               SP|\n",
      "|delivered|12.04.18 17:25|9d0bb30eed8018466...|19.95|         8.29|           5|      boleto|        28.24|    sao paulo|            SP|  sao paulo|        null|       sao paulo|               SP|       sao paulo|               SP|\n",
      "|delivered|12.04.18 17:25|9d0bb30eed8018466...|19.95|         8.29|           5|      boleto|        28.24|    sao paulo|            SP|  sao paulo|        null|       sao paulo|               SP|       sao paulo|               SP|\n",
      "|delivered|12.04.18 17:25|9d0bb30eed8018466...|19.95|         8.29|           5|      boleto|        28.24|    sao paulo|            SP|  sao paulo|        null|       sao paulo|               SP|       sao paulo|               SP|\n",
      "|delivered|12.04.18 17:25|9d0bb30eed8018466...|19.95|         8.29|           5|      boleto|        28.24|    sao paulo|            SP|  sao paulo|        null|       sao paulo|               SP|       são paulo|               SP|\n",
      "|delivered|12.04.18 17:25|9d0bb30eed8018466...|19.95|         8.29|           5|      boleto|        28.24|    sao paulo|            SP|  sao paulo|        null|       sao paulo|               SP|       sao paulo|               SP|\n",
      "|delivered|12.04.18 17:25|9d0bb30eed8018466...|19.95|         8.29|           5|      boleto|        28.24|    sao paulo|            SP|  sao paulo|        null|       sao paulo|               SP|       sao paulo|               SP|\n",
      "|delivered|12.04.18 17:25|9d0bb30eed8018466...|19.95|         8.29|           5|      boleto|        28.24|    sao paulo|            SP|  sao paulo|        null|       sao paulo|               SP|       são paulo|               SP|\n",
      "|delivered|12.04.18 17:25|9d0bb30eed8018466...|19.95|         8.29|           5|      boleto|        28.24|    sao paulo|            SP|  sao paulo|        null|       sao paulo|               SP|       sao paulo|               SP|\n",
      "|delivered|12.04.18 17:25|9d0bb30eed8018466...|19.95|         8.29|           5|      boleto|        28.24|    sao paulo|            SP|  sao paulo|        null|       sao paulo|               SP|       sao paulo|               SP|\n",
      "+---------+--------------+--------------------+-----+-------------+------------+------------+-------------+-------------+--------------+-----------+------------+----------------+-----------------+----------------+-----------------+\n",
      "only showing top 20 rows\n",
      "\n"
     ]
    }
   ],
   "source": [
    "# joining\n",
    "# orders\n",
    "# order items\n",
    "# order reviews\n",
    "# order payment\n",
    "# customers\n",
    "# sellers\n",
    "# geolocation\n",
    "df_features = df_orders_light.join(df_orditems_light, df_orders_light[\"order_id\"] == df_orditems_light[\"order_id\"], \"inner\")\\\n",
    "         .join(df_ordreviews_light,df_orders_light[\"order_id\"] == df_ordreviews_light[\"order_id\"], \"inner\")\\\n",
    "         .join(df_pay_light,df_orders_light[\"order_id\"] == df_pay_light[\"order_id\"], \"inner\")\\\n",
    "         .drop(\"order_id\")\\\n",
    "         .join(df_customers_light,df_orders_light[\"customer_id\"] == df_customers_light[\"customer_id\"], \"inner\")\\\n",
    "         .drop(\"customer_id\")\\\n",
    ".join(df_sellers,df_orditems_light[\"seller_id\"] == df_sellers[\"seller_id\"], \"inner\")\\\n",
    ".drop(\"seller_id\")\\\n",
    ".join(df_geo_light,df_geo_light[\"geolocation_zip_code_prefix\"] == df_customers_light[\"customer_zip_code_prefix\"], \"inner\")\\\n",
    ".join(df_geo_light,df_geo_light[\"geolocation_zip_code_prefix\"] == df_sellers[\"seller_zip_code_prefix\"], \"inner\")\\\n",
    ".drop(\"seller_zip_code_prefix\")\\\n",
    ".drop(\"customer_zip_code_prefix\")\\\n",
    ".drop(\"geolocation_zip_code_prefix\")\\\n",
    ".show()\n",
    "\n",
    "# df_features[0]"
   ]
  },
  {
   "cell_type": "code",
   "execution_count": 19,
   "id": "annual-dollar",
   "metadata": {},
   "outputs": [
    {
     "data": {
      "text/plain": [
       "DataFrame[order_id: string, customer_id: string, status: string, purchase_at: string, approved_at: string, delvd_carrier_dt: string, delvd_customer_dt: string, estimated_delivery_dt: date]"
      ]
     },
     "execution_count": 19,
     "metadata": {},
     "output_type": "execute_result"
    }
   ],
   "source": [
    "#df_orders.withColumn('purchase_at_dt', to_date(col('purchase_at'),'dd.mm.yyyy'))\n",
    "df_orders.withColumn('purchase_at', df_orders['purchase_at'].cast(DateType()))\n",
    "df_orders.withColumn('approved_at', df_orders['approved_at'].cast(DateType()))\n",
    "df_orders.withColumn('delvd_carrier_dt', df_orders['delvd_carrier_dt'].cast(DateType()))\n",
    "df_orders.withColumn('delvd_customer_dt', df_orders['delvd_customer_dt'].cast(DateType()))\n",
    "df_orders.withColumn('estimated_delivery_dt', df_orders['estimated_delivery_dt'].cast(DateType()))"
   ]
  },
  {
   "cell_type": "code",
   "execution_count": 20,
   "id": "similar-session",
   "metadata": {},
   "outputs": [
    {
     "name": "stdout",
     "output_type": "stream",
     "text": [
      "+--------------------+------------------+------------+--------------------+-------------+\n",
      "|            order_id|payment_sequential|payment_type|payment_installments|payment_value|\n",
      "+--------------------+------------------+------------+--------------------+-------------+\n",
      "|b81ef226f3fe1789b...|                 1| credit_card|                   8|        99.33|\n",
      "|a9810da82917af2d9...|                 1| credit_card|                   1|        24.39|\n",
      "|25e8ea4e93396b6fa...|                 1| credit_card|                   1|        65.71|\n",
      "|ba78997921bbcdc13...|                 1| credit_card|                   8|       107.78|\n",
      "|42fdf880ba16b47b5...|                 1| credit_card|                   2|       128.45|\n",
      "|298fcdf1f73eb413e...|                 1| credit_card|                   2|        96.12|\n",
      "|771ee386b001f0620...|                 1| credit_card|                   1|        81.16|\n",
      "|3d7239c394a212faa...|                 1| credit_card|                   3|        51.84|\n",
      "|1f78449c87a54faf9...|                 1| credit_card|                   6|       341.09|\n",
      "|0573b5e23cbd79800...|                 1|      boleto|                   1|        51.95|\n",
      "|d88e0d5fa41661ce0...|                 1| credit_card|                   8|       188.73|\n",
      "|2480f727e869fdeb3...|                 1| credit_card|                   1|        141.9|\n",
      "|616105c9352a9668c...|                 1| credit_card|                   1|        75.78|\n",
      "|cf95215a722f3ebf2...|                 1| credit_card|                   5|       102.66|\n",
      "|769214176682788a9...|                 1| credit_card|                   4|       105.28|\n",
      "|12e5cfe0e4716b59a...|                 1| credit_card|                  10|       157.45|\n",
      "|61059985a6fc0ad64...|                 1| credit_card|                   1|       132.04|\n",
      "|79da3f5fe31ad1e45...|                 1| credit_card|                   1|        98.94|\n",
      "|8ac09207f415d55ac...|                 1| credit_card|                   4|       244.15|\n",
      "|b2349a3f20dfbeef6...|                 1| credit_card|                   3|       136.71|\n",
      "+--------------------+------------------+------------+--------------------+-------------+\n",
      "only showing top 20 rows\n",
      "\n"
     ]
    }
   ],
   "source": [
    "df_payments.show()"
   ]
  },
  {
   "cell_type": "code",
   "execution_count": 21,
   "id": "amateur-result",
   "metadata": {},
   "outputs": [
    {
     "name": "stdout",
     "output_type": "stream",
     "text": [
      "+------------+--------------------+\n",
      "|payment_type|  sum(payment_value)|\n",
      "+------------+--------------------+\n",
      "|      boleto|  2869361.2699999996|\n",
      "| not_defined|                 0.0|\n",
      "| credit_card|1.2542084189999508E7|\n",
      "|     voucher|  379436.87000000046|\n",
      "|  debit_card|  217989.79000000018|\n",
      "+------------+--------------------+\n",
      "\n"
     ]
    }
   ],
   "source": [
    "df_payments.groupBy(\"payment_type\").sum(\"payment_value\").show()\n"
   ]
  },
  {
   "cell_type": "code",
   "execution_count": 22,
   "id": "religious-ranking",
   "metadata": {},
   "outputs": [
    {
     "data": {
      "text/plain": [
       "<AxesSubplot:>"
      ]
     },
     "execution_count": 22,
     "metadata": {},
     "output_type": "execute_result"
    },
    {
     "data": {
      "image/png": "[encoded data removed]",
      "text/plain": [
       "<Figure size 432x288 with 1 Axes>"
      ]
     },
     "metadata": {
      "needs_background": "light"
     },
     "output_type": "display_data"
    }
   ],
   "source": [
    "TotalPerpymtType = df_payments.groupBy(\"payment_type\").sum(\"payment_value\")\n",
    "TotalPerpymtType.toPandas().plot(kind=\"barh\", legend=True)"
   ]
  },
  {
   "cell_type": "code",
   "execution_count": 23,
   "id": "growing-boating",
   "metadata": {},
   "outputs": [],
   "source": [
    "x = TotalPerpymtType.select(\"payment_type\").toPandas().to_numpy\n",
    "y = TotalPerpymtType.select(\"sum(payment_value)\").toPandas().to_numpy\n",
    "#x = TotalPerpymtType[\"payment_type\"].to_numpy()\n",
    "# select(\"payment_type\").toPandas().values\n",
    "#y = TotalPerpymtType.select(\"sum(payment_value)\")\n",
    "#plt.bar(x,y)\n",
    "\n",
    "\n"
   ]
  },
  {
   "cell_type": "code",
   "execution_count": 24,
   "id": "stock-dakota",
   "metadata": {},
   "outputs": [
    {
     "name": "stdout",
     "output_type": "stream",
     "text": [
      "+------------------+\n",
      "|max(payment_value)|\n",
      "+------------------+\n",
      "|          13664.08|\n",
      "+------------------+\n",
      "\n"
     ]
    }
   ],
   "source": [
    "df_payments.agg({'payment_value':'max'}).show()"
   ]
  },
  {
   "cell_type": "code",
   "execution_count": null,
   "id": "according-powell",
   "metadata": {},
   "outputs": [],
   "source": []
  },
  {
   "cell_type": "code",
   "execution_count": 25,
   "id": "universal-kidney",
   "metadata": {},
   "outputs": [
    {
     "name": "stdout",
     "output_type": "stream",
     "text": [
      "+------------+--------------------+\n",
      "|payment_type|  sum(payment_value)|\n",
      "+------------+--------------------+\n",
      "|      boleto|  2869361.2699999996|\n",
      "| not_defined|                 0.0|\n",
      "| credit_card|1.2542084189999508E7|\n",
      "|     voucher|  379436.87000000046|\n",
      "|  debit_card|  217989.79000000018|\n",
      "+------------+--------------------+\n",
      "\n"
     ]
    }
   ],
   "source": [
    "group_by_paymttype = df_payments.groupBy(\"payment_type\")\n",
    "group_by_paymttype.agg({'payment_value':'sum'}).show()"
   ]
  },
  {
   "cell_type": "code",
   "execution_count": 26,
   "id": "regional-soundtrack",
   "metadata": {},
   "outputs": [],
   "source": [
    "sales_stddev = df_payments.select(stddev('payment_value').alias('stddev_sales'))"
   ]
  },
  {
   "cell_type": "code",
   "execution_count": 27,
   "id": "convenient-effectiveness",
   "metadata": {},
   "outputs": [
    {
     "name": "stdout",
     "output_type": "stream",
     "text": [
      "+------------+--------+\n",
      "|payment_type|   sales|\n",
      "+------------+--------+\n",
      "| credit_card|13664.08|\n",
      "|      boleto| 7274.88|\n",
      "| credit_card| 6929.31|\n",
      "|      boleto| 6922.21|\n",
      "|      boleto| 6726.66|\n",
      "|      boleto| 6081.54|\n",
      "| credit_card| 4950.34|\n",
      "| credit_card| 4809.44|\n",
      "| credit_card| 4764.34|\n",
      "| credit_card| 4681.78|\n",
      "| credit_card| 4513.32|\n",
      "|  debit_card|  4445.5|\n",
      "| credit_card| 4175.26|\n",
      "|  debit_card| 4163.51|\n",
      "| credit_card| 4042.74|\n",
      "| credit_card| 4016.91|\n",
      "|      boleto| 3979.55|\n",
      "| credit_card|  3899.0|\n",
      "| credit_card|  3826.8|\n",
      "| credit_card| 3792.59|\n",
      "+------------+--------+\n",
      "only showing top 20 rows\n",
      "\n"
     ]
    }
   ],
   "source": [
    "sales_customer = df_payments.select(df_payments['payment_type'], df_payments['payment_value'].alias('sales')).orderBy(df_payments['payment_value'].desc()).show()"
   ]
  },
  {
   "cell_type": "code",
   "execution_count": 28,
   "id": "exclusive-determination",
   "metadata": {},
   "outputs": [
    {
     "name": "stdout",
     "output_type": "stream",
     "text": [
      "+------------------------+\n",
      "|standard deviation sales|\n",
      "+------------------------+\n",
      "|                  217.49|\n",
      "+------------------------+\n",
      "\n"
     ]
    }
   ],
   "source": [
    "sales_stddev.select(format_number('stddev_sales',2).alias('standard deviation sales')).show()"
   ]
  },
  {
   "cell_type": "code",
   "execution_count": 29,
   "id": "adapted-verse",
   "metadata": {},
   "outputs": [
    {
     "name": "stdout",
     "output_type": "stream",
     "text": [
      "+------+\n",
      "|  stdd|\n",
      "+------+\n",
      "|217.49|\n",
      "+------+\n",
      "\n"
     ]
    }
   ],
   "source": [
    "sales_stddev.select(format_number('stddev_sales',2).alias('stdd')).show()"
   ]
  },
  {
   "cell_type": "code",
   "execution_count": 30,
   "id": "indoor-condition",
   "metadata": {},
   "outputs": [
    {
     "name": "stdout",
     "output_type": "stream",
     "text": [
      "+--------------------+\n",
      "|         customer_id|\n",
      "+--------------------+\n",
      "|06b8999e2fba1a1fb...|\n",
      "|18955e83d337fd6b2...|\n",
      "|4e7b3e00288586ebd...|\n",
      "|b2b6027bc5c5109e5...|\n",
      "|4f2d8ab171c80ec83...|\n",
      "|879864dab9bc30475...|\n",
      "|fd826e7cf63160e53...|\n",
      "|5e274e7a0c3809e14...|\n",
      "|5adf08e34b2e99398...|\n",
      "|4b7139f34592b3a31...|\n",
      "|9fb35e4ed6f0a14a4...|\n",
      "|5aa9e4fdd4dfd2095...|\n",
      "|b2d1536598b73a9ab...|\n",
      "|eabebad39a88bb6f5...|\n",
      "|1f1c7bf1c9b041b29...|\n",
      "|206f3129c0e4d7d0b...|\n",
      "|a7c125a0a07b75146...|\n",
      "|c5c61596a3b6bd0ce...|\n",
      "|9b8ce803689b3562d...|\n",
      "|49d0ea0986edde72d...|\n",
      "+--------------------+\n",
      "only showing top 20 rows\n",
      "\n"
     ]
    }
   ],
   "source": [
    "df_customers.select(\"customer_id\").show()"
   ]
  },
  {
   "cell_type": "code",
   "execution_count": null,
   "id": "accessible-domestic",
   "metadata": {},
   "outputs": [],
   "source": []
  },
  {
   "cell_type": "code",
   "execution_count": 31,
   "id": "optional-crash",
   "metadata": {},
   "outputs": [],
   "source": [
    "df_customers.createOrReplaceTempView(\"clients\")"
   ]
  },
  {
   "cell_type": "code",
   "execution_count": 32,
   "id": "organized-seller",
   "metadata": {},
   "outputs": [],
   "source": [
    "res = df_customers.filter(\"customer_state in ('SP','SC','MG')\").select('customer_id','customer_city','customer_state').collect()"
   ]
  },
  {
   "cell_type": "code",
   "execution_count": 33,
   "id": "significant-appraisal",
   "metadata": {},
   "outputs": [],
   "source": [
    "row = res [0]"
   ]
  },
  {
   "cell_type": "code",
   "execution_count": 34,
   "id": "vulnerable-local",
   "metadata": {},
   "outputs": [
    {
     "data": {
      "text/plain": [
       "'franca'"
      ]
     },
     "execution_count": 34,
     "metadata": {},
     "output_type": "execute_result"
    }
   ],
   "source": [
    "row.asDict()[\"customer_city\"]"
   ]
  },
  {
   "cell_type": "code",
   "execution_count": 35,
   "id": "raising-arlington",
   "metadata": {},
   "outputs": [],
   "source": [
    "res = spark.sql(\"SELECT * from clients where customer_city <> 'sao paulo'\")"
   ]
  },
  {
   "cell_type": "code",
   "execution_count": 36,
   "id": "cloudy-opening",
   "metadata": {},
   "outputs": [
    {
     "name": "stdout",
     "output_type": "stream",
     "text": [
      "+--------------------+--------------------+------------------------+--------------------+--------------+\n",
      "|         customer_id|  customer_unique_id|customer_zip_code_prefix|       customer_city|customer_state|\n",
      "+--------------------+--------------------+------------------------+--------------------+--------------+\n",
      "|06b8999e2fba1a1fb...|861eff4711a542e4b...|                   14409|              franca|            SP|\n",
      "|18955e83d337fd6b2...|290c77bc529b7ac93...|                   09790|sao bernardo do c...|            SP|\n",
      "|b2b6027bc5c5109e5...|259dac757896d24d7...|                   08775|     mogi das cruzes|            SP|\n",
      "|4f2d8ab171c80ec83...|345ecd01c38d18a90...|                   13056|            campinas|            SP|\n",
      "|879864dab9bc30475...|4c93744516667ad3b...|                   89254|      jaragua do sul|            SC|\n",
      "|5e274e7a0c3809e14...|57b2a98a409812fe9...|                   35182|             timoteo|            MG|\n",
      "|5adf08e34b2e99398...|1175e95fb47ddff9d...|                   81560|            curitiba|            PR|\n",
      "|4b7139f34592b3a31...|9afe194fb833f79e3...|                   30575|      belo horizonte|            MG|\n",
      "|9fb35e4ed6f0a14a4...|2a7745e1ed516b289...|                   39400|       montes claros|            MG|\n",
      "|5aa9e4fdd4dfd2095...|2a46fb94aef5cbeeb...|                   20231|      rio de janeiro|            RJ|\n",
      "|b2d1536598b73a9ab...|918dc87cd72cd9f6e...|                   18682|    lencois paulista|            SP|\n",
      "|1f1c7bf1c9b041b29...|3151a81801c838636...|                   95110|       caxias do sul|            RS|\n",
      "|206f3129c0e4d7d0b...|21f748a16f4e1688a...|                   13412|          piracicaba|            SP|\n",
      "|a7c125a0a07b75146...|5c2991dbd08bbf3cf...|                   22750|      rio de janeiro|            RJ|\n",
      "|c5c61596a3b6bd0ce...|b6e99561fe6f34a55...|                   07124|           guarulhos|            SP|\n",
      "|49d0ea0986edde72d...|3e6fd6b2f0d499456...|                   68485|              pacaja|            PA|\n",
      "|154c4ded6991bdfa3...|e607ede0e63436308...|                   88034|       florianopolis|            SC|\n",
      "|690172ab319622688...|a96d5cfa0d3181817...|                   74914|aparecida de goiania|            GO|\n",
      "|237098a64674ae89b...|4390ddbb6276a66ff...|                   82820|            curitiba|            PR|\n",
      "|f681356046d9fde60...|5f102dd37243f152a...|                   09121|         santo andre|            SP|\n",
      "+--------------------+--------------------+------------------------+--------------------+--------------+\n",
      "only showing top 20 rows\n",
      "\n"
     ]
    }
   ],
   "source": [
    "res.show()"
   ]
  },
  {
   "cell_type": "markdown",
   "id": "arabic-hawaii",
   "metadata": {},
   "source": [
    "## Transforming Model\n",
    "***\n",
    "1. Join tables\n",
    "2. Project into one single tables"
   ]
  },
  {
   "cell_type": "code",
   "execution_count": null,
   "id": "aging-enterprise",
   "metadata": {},
   "outputs": [],
   "source": []
  },
  {
   "cell_type": "markdown",
   "id": "macro-arnold",
   "metadata": {},
   "source": [
    "## Analysing Data\n",
    "***\n",
    "1. Comparing features with the label 1 as \"Purchased\" or 0 as \"Not Purchase\" "
   ]
  },
  {
   "cell_type": "code",
   "execution_count": null,
   "id": "english-glenn",
   "metadata": {},
   "outputs": [],
   "source": []
  },
  {
   "cell_type": "code",
   "execution_count": null,
   "id": "continuous-blogger",
   "metadata": {},
   "outputs": [],
   "source": []
  }
 ],
 "metadata": {
  "kernelspec": {
   "display_name": "Python 3",
   "language": "python",
   "name": "python3"
  },
  "language_info": {
   "codemirror_mode": {
    "name": "ipython",
    "version": 3
   },
   "file_extension": ".py",
   "mimetype": "text/x-python",
   "name": "python",
   "nbconvert_exporter": "python",
   "pygments_lexer": "ipython3",
   "version": "3.8.8"
  }
 },
 "nbformat": 4,
 "nbformat_minor": 5
}
